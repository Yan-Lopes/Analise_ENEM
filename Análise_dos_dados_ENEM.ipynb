{
  "cells": [
    {
      "cell_type": "markdown",
      "metadata": {
        "id": "view-in-github",
        "colab_type": "text"
      },
      "source": [
        "<a href=\"https://colab.research.google.com/github/Yan-Lopes/Analise_ENEM/blob/main/An%C3%A1lise_dos_dados_ENEM.ipynb\" target=\"_parent\"><img src=\"https://colab.research.google.com/assets/colab-badge.svg\" alt=\"Open In Colab\"/></a>"
      ]
    },
    {
      "cell_type": "code",
      "execution_count": 1,
      "metadata": {
        "id": "JDeFlKpTImhC"
      },
      "outputs": [],
      "source": [
        "#Importando bibliotecas\n",
        "import pandas as pd\n",
        "import matplotlib.pyplot as plt"
      ]
    },
    {
      "cell_type": "code",
      "execution_count": 2,
      "metadata": {
        "colab": {
          "base_uri": "https://localhost:8080/",
          "height": 300
        },
        "id": "G8QV2qJtVCMS",
        "outputId": "73e14395-2698-43ba-e4ea-9e3223991ae1"
      },
      "outputs": [
        {
          "output_type": "execute_result",
          "data": {
            "text/plain": [
              "   NU_INSCRICAO  NU_ANO  CO_MUNICIPIO_RESIDENCIA NO_MUNICIPIO_RESIDENCIA  \\\n",
              "0  190001237802    2019                  3118601                Contagem   \n",
              "1  190001237803    2019                  3170206              Uberlândia   \n",
              "2  190001237804    2019                  3124104              Esmeraldas   \n",
              "3  190001237805    2019                  3118304    Conselheiro Lafaiete   \n",
              "4  190001237806    2019                  3162922    São Joaquim de Bicas   \n",
              "\n",
              "   CO_UF_RESIDENCIA SG_UF_RESIDENCIA  NU_IDADE TP_SEXO  TP_ESTADO_CIVIL  \\\n",
              "0                31               MG      22.0       F                1   \n",
              "1                31               MG      30.0       F                1   \n",
              "2                31               MG      27.0       M                1   \n",
              "3                31               MG      22.0       F                1   \n",
              "4                31               MG      23.0       F                1   \n",
              "\n",
              "   TP_COR_RACA  ...  Q016  Q017 Q018  Q019 Q020  Q021  Q022  Q023  Q024  Q025  \n",
              "0            1  ...     B     A    A     B    A     A     C     B     B     B  \n",
              "1            2  ...     A     A    A     B    A     A     B     A     A     A  \n",
              "2            3  ...     A     A    A     B    A     B     C     A     A     A  \n",
              "3            1  ...     B     A    B     C    B     A     E     A     B     B  \n",
              "4            4  ...     B     A    A     B    B     A     C     A     B     B  \n",
              "\n",
              "[5 rows x 136 columns]"
            ],
            "text/html": [
              "\n",
              "  <div id=\"df-b9730698-d8bb-4c72-9ac9-1af7bee609e3\">\n",
              "    <div class=\"colab-df-container\">\n",
              "      <div>\n",
              "<style scoped>\n",
              "    .dataframe tbody tr th:only-of-type {\n",
              "        vertical-align: middle;\n",
              "    }\n",
              "\n",
              "    .dataframe tbody tr th {\n",
              "        vertical-align: top;\n",
              "    }\n",
              "\n",
              "    .dataframe thead th {\n",
              "        text-align: right;\n",
              "    }\n",
              "</style>\n",
              "<table border=\"1\" class=\"dataframe\">\n",
              "  <thead>\n",
              "    <tr style=\"text-align: right;\">\n",
              "      <th></th>\n",
              "      <th>NU_INSCRICAO</th>\n",
              "      <th>NU_ANO</th>\n",
              "      <th>CO_MUNICIPIO_RESIDENCIA</th>\n",
              "      <th>NO_MUNICIPIO_RESIDENCIA</th>\n",
              "      <th>CO_UF_RESIDENCIA</th>\n",
              "      <th>SG_UF_RESIDENCIA</th>\n",
              "      <th>NU_IDADE</th>\n",
              "      <th>TP_SEXO</th>\n",
              "      <th>TP_ESTADO_CIVIL</th>\n",
              "      <th>TP_COR_RACA</th>\n",
              "      <th>...</th>\n",
              "      <th>Q016</th>\n",
              "      <th>Q017</th>\n",
              "      <th>Q018</th>\n",
              "      <th>Q019</th>\n",
              "      <th>Q020</th>\n",
              "      <th>Q021</th>\n",
              "      <th>Q022</th>\n",
              "      <th>Q023</th>\n",
              "      <th>Q024</th>\n",
              "      <th>Q025</th>\n",
              "    </tr>\n",
              "  </thead>\n",
              "  <tbody>\n",
              "    <tr>\n",
              "      <th>0</th>\n",
              "      <td>190001237802</td>\n",
              "      <td>2019</td>\n",
              "      <td>3118601</td>\n",
              "      <td>Contagem</td>\n",
              "      <td>31</td>\n",
              "      <td>MG</td>\n",
              "      <td>22.0</td>\n",
              "      <td>F</td>\n",
              "      <td>1</td>\n",
              "      <td>1</td>\n",
              "      <td>...</td>\n",
              "      <td>B</td>\n",
              "      <td>A</td>\n",
              "      <td>A</td>\n",
              "      <td>B</td>\n",
              "      <td>A</td>\n",
              "      <td>A</td>\n",
              "      <td>C</td>\n",
              "      <td>B</td>\n",
              "      <td>B</td>\n",
              "      <td>B</td>\n",
              "    </tr>\n",
              "    <tr>\n",
              "      <th>1</th>\n",
              "      <td>190001237803</td>\n",
              "      <td>2019</td>\n",
              "      <td>3170206</td>\n",
              "      <td>Uberlândia</td>\n",
              "      <td>31</td>\n",
              "      <td>MG</td>\n",
              "      <td>30.0</td>\n",
              "      <td>F</td>\n",
              "      <td>1</td>\n",
              "      <td>2</td>\n",
              "      <td>...</td>\n",
              "      <td>A</td>\n",
              "      <td>A</td>\n",
              "      <td>A</td>\n",
              "      <td>B</td>\n",
              "      <td>A</td>\n",
              "      <td>A</td>\n",
              "      <td>B</td>\n",
              "      <td>A</td>\n",
              "      <td>A</td>\n",
              "      <td>A</td>\n",
              "    </tr>\n",
              "    <tr>\n",
              "      <th>2</th>\n",
              "      <td>190001237804</td>\n",
              "      <td>2019</td>\n",
              "      <td>3124104</td>\n",
              "      <td>Esmeraldas</td>\n",
              "      <td>31</td>\n",
              "      <td>MG</td>\n",
              "      <td>27.0</td>\n",
              "      <td>M</td>\n",
              "      <td>1</td>\n",
              "      <td>3</td>\n",
              "      <td>...</td>\n",
              "      <td>A</td>\n",
              "      <td>A</td>\n",
              "      <td>A</td>\n",
              "      <td>B</td>\n",
              "      <td>A</td>\n",
              "      <td>B</td>\n",
              "      <td>C</td>\n",
              "      <td>A</td>\n",
              "      <td>A</td>\n",
              "      <td>A</td>\n",
              "    </tr>\n",
              "    <tr>\n",
              "      <th>3</th>\n",
              "      <td>190001237805</td>\n",
              "      <td>2019</td>\n",
              "      <td>3118304</td>\n",
              "      <td>Conselheiro Lafaiete</td>\n",
              "      <td>31</td>\n",
              "      <td>MG</td>\n",
              "      <td>22.0</td>\n",
              "      <td>F</td>\n",
              "      <td>1</td>\n",
              "      <td>1</td>\n",
              "      <td>...</td>\n",
              "      <td>B</td>\n",
              "      <td>A</td>\n",
              "      <td>B</td>\n",
              "      <td>C</td>\n",
              "      <td>B</td>\n",
              "      <td>A</td>\n",
              "      <td>E</td>\n",
              "      <td>A</td>\n",
              "      <td>B</td>\n",
              "      <td>B</td>\n",
              "    </tr>\n",
              "    <tr>\n",
              "      <th>4</th>\n",
              "      <td>190001237806</td>\n",
              "      <td>2019</td>\n",
              "      <td>3162922</td>\n",
              "      <td>São Joaquim de Bicas</td>\n",
              "      <td>31</td>\n",
              "      <td>MG</td>\n",
              "      <td>23.0</td>\n",
              "      <td>F</td>\n",
              "      <td>1</td>\n",
              "      <td>4</td>\n",
              "      <td>...</td>\n",
              "      <td>B</td>\n",
              "      <td>A</td>\n",
              "      <td>A</td>\n",
              "      <td>B</td>\n",
              "      <td>B</td>\n",
              "      <td>A</td>\n",
              "      <td>C</td>\n",
              "      <td>A</td>\n",
              "      <td>B</td>\n",
              "      <td>B</td>\n",
              "    </tr>\n",
              "  </tbody>\n",
              "</table>\n",
              "<p>5 rows × 136 columns</p>\n",
              "</div>\n",
              "      <button class=\"colab-df-convert\" onclick=\"convertToInteractive('df-b9730698-d8bb-4c72-9ac9-1af7bee609e3')\"\n",
              "              title=\"Convert this dataframe to an interactive table.\"\n",
              "              style=\"display:none;\">\n",
              "        \n",
              "  <svg xmlns=\"http://www.w3.org/2000/svg\" height=\"24px\"viewBox=\"0 0 24 24\"\n",
              "       width=\"24px\">\n",
              "    <path d=\"M0 0h24v24H0V0z\" fill=\"none\"/>\n",
              "    <path d=\"M18.56 5.44l.94 2.06.94-2.06 2.06-.94-2.06-.94-.94-2.06-.94 2.06-2.06.94zm-11 1L8.5 8.5l.94-2.06 2.06-.94-2.06-.94L8.5 2.5l-.94 2.06-2.06.94zm10 10l.94 2.06.94-2.06 2.06-.94-2.06-.94-.94-2.06-.94 2.06-2.06.94z\"/><path d=\"M17.41 7.96l-1.37-1.37c-.4-.4-.92-.59-1.43-.59-.52 0-1.04.2-1.43.59L10.3 9.45l-7.72 7.72c-.78.78-.78 2.05 0 2.83L4 21.41c.39.39.9.59 1.41.59.51 0 1.02-.2 1.41-.59l7.78-7.78 2.81-2.81c.8-.78.8-2.07 0-2.86zM5.41 20L4 18.59l7.72-7.72 1.47 1.35L5.41 20z\"/>\n",
              "  </svg>\n",
              "      </button>\n",
              "      \n",
              "  <style>\n",
              "    .colab-df-container {\n",
              "      display:flex;\n",
              "      flex-wrap:wrap;\n",
              "      gap: 12px;\n",
              "    }\n",
              "\n",
              "    .colab-df-convert {\n",
              "      background-color: #E8F0FE;\n",
              "      border: none;\n",
              "      border-radius: 50%;\n",
              "      cursor: pointer;\n",
              "      display: none;\n",
              "      fill: #1967D2;\n",
              "      height: 32px;\n",
              "      padding: 0 0 0 0;\n",
              "      width: 32px;\n",
              "    }\n",
              "\n",
              "    .colab-df-convert:hover {\n",
              "      background-color: #E2EBFA;\n",
              "      box-shadow: 0px 1px 2px rgba(60, 64, 67, 0.3), 0px 1px 3px 1px rgba(60, 64, 67, 0.15);\n",
              "      fill: #174EA6;\n",
              "    }\n",
              "\n",
              "    [theme=dark] .colab-df-convert {\n",
              "      background-color: #3B4455;\n",
              "      fill: #D2E3FC;\n",
              "    }\n",
              "\n",
              "    [theme=dark] .colab-df-convert:hover {\n",
              "      background-color: #434B5C;\n",
              "      box-shadow: 0px 1px 3px 1px rgba(0, 0, 0, 0.15);\n",
              "      filter: drop-shadow(0px 1px 2px rgba(0, 0, 0, 0.3));\n",
              "      fill: #FFFFFF;\n",
              "    }\n",
              "  </style>\n",
              "\n",
              "      <script>\n",
              "        const buttonEl =\n",
              "          document.querySelector('#df-b9730698-d8bb-4c72-9ac9-1af7bee609e3 button.colab-df-convert');\n",
              "        buttonEl.style.display =\n",
              "          google.colab.kernel.accessAllowed ? 'block' : 'none';\n",
              "\n",
              "        async function convertToInteractive(key) {\n",
              "          const element = document.querySelector('#df-b9730698-d8bb-4c72-9ac9-1af7bee609e3');\n",
              "          const dataTable =\n",
              "            await google.colab.kernel.invokeFunction('convertToInteractive',\n",
              "                                                     [key], {});\n",
              "          if (!dataTable) return;\n",
              "\n",
              "          const docLinkHtml = 'Like what you see? Visit the ' +\n",
              "            '<a target=\"_blank\" href=https://colab.research.google.com/notebooks/data_table.ipynb>data table notebook</a>'\n",
              "            + ' to learn more about interactive tables.';\n",
              "          element.innerHTML = '';\n",
              "          dataTable['output_type'] = 'display_data';\n",
              "          await google.colab.output.renderOutput(dataTable, element);\n",
              "          const docLink = document.createElement('div');\n",
              "          docLink.innerHTML = docLinkHtml;\n",
              "          element.appendChild(docLink);\n",
              "        }\n",
              "      </script>\n",
              "    </div>\n",
              "  </div>\n",
              "  "
            ]
          },
          "metadata": {},
          "execution_count": 2
        }
      ],
      "source": [
        "#Importando os arquivos\n",
        "df_bruto=pd.read_csv(\"/content/drive/MyDrive/Teste_ENEM/dado_mg.csv\",sep=\";\")\n",
        "df_bruto.head()"
      ]
    },
    {
      "cell_type": "code",
      "execution_count": 3,
      "metadata": {
        "id": "jvubhuQ9Jh8e"
      },
      "outputs": [],
      "source": [
        "#Criando base com dados úteis para as análises a partir da base bruta, temos:\n",
        "df_exploratoria=pd.DataFrame(df_bruto,columns=[\"TP_SEXO\",\"NO_MUNICIPIO_RESIDENCIA\",\"NU_NOTA_CN\",\"NU_NOTA_CH\",\"NU_NOTA_MT\",\"NU_NOTA_REDACAO\",\"NU_NOTA_LC\",\"IN_TREINEIRO\",\"NU_NOTA_COMP1\",\"NU_NOTA_COMP2\",\"NU_NOTA_COMP3\",\"NU_NOTA_COMP4\",\"NU_NOTA_COMP5\"])\n"
      ]
    },
    {
      "cell_type": "code",
      "execution_count": 4,
      "metadata": {
        "colab": {
          "base_uri": "https://localhost:8080/",
          "height": 270
        },
        "id": "DYnvL21sKVgd",
        "outputId": "10b2f8a2-b909-4843-955c-3f13ca06bd30"
      },
      "outputs": [
        {
          "output_type": "execute_result",
          "data": {
            "text/plain": [
              "  TP_SEXO NO_MUNICIPIO_RESIDENCIA  NU_NOTA_CN  NU_NOTA_CH  NU_NOTA_MT  \\\n",
              "0       F                Contagem       513.6       575.5       677.0   \n",
              "1       F              Uberlândia         NaN         NaN         NaN   \n",
              "2       M              Esmeraldas       394.3       494.1       397.5   \n",
              "3       F    Conselheiro Lafaiete       560.0       592.0       695.1   \n",
              "4       F    São Joaquim de Bicas       504.2       554.6       462.4   \n",
              "\n",
              "   NU_NOTA_REDACAO  NU_NOTA_LC  IN_TREINEIRO  NU_NOTA_COMP1  NU_NOTA_COMP2  \\\n",
              "0            860.0       570.7             0          160.0          120.0   \n",
              "1              NaN         NaN             0            NaN            NaN   \n",
              "2            600.0       479.5             0          140.0          140.0   \n",
              "3            540.0       591.1             0          120.0          120.0   \n",
              "4            580.0       519.7             0          120.0          120.0   \n",
              "\n",
              "   NU_NOTA_COMP3  NU_NOTA_COMP4  NU_NOTA_COMP5  \n",
              "0          180.0          200.0          200.0  \n",
              "1            NaN            NaN            NaN  \n",
              "2          120.0          120.0           80.0  \n",
              "3          120.0          120.0           60.0  \n",
              "4          120.0          120.0          100.0  "
            ],
            "text/html": [
              "\n",
              "  <div id=\"df-4c13d527-e0ee-4276-ba2a-edd839c2f22e\">\n",
              "    <div class=\"colab-df-container\">\n",
              "      <div>\n",
              "<style scoped>\n",
              "    .dataframe tbody tr th:only-of-type {\n",
              "        vertical-align: middle;\n",
              "    }\n",
              "\n",
              "    .dataframe tbody tr th {\n",
              "        vertical-align: top;\n",
              "    }\n",
              "\n",
              "    .dataframe thead th {\n",
              "        text-align: right;\n",
              "    }\n",
              "</style>\n",
              "<table border=\"1\" class=\"dataframe\">\n",
              "  <thead>\n",
              "    <tr style=\"text-align: right;\">\n",
              "      <th></th>\n",
              "      <th>TP_SEXO</th>\n",
              "      <th>NO_MUNICIPIO_RESIDENCIA</th>\n",
              "      <th>NU_NOTA_CN</th>\n",
              "      <th>NU_NOTA_CH</th>\n",
              "      <th>NU_NOTA_MT</th>\n",
              "      <th>NU_NOTA_REDACAO</th>\n",
              "      <th>NU_NOTA_LC</th>\n",
              "      <th>IN_TREINEIRO</th>\n",
              "      <th>NU_NOTA_COMP1</th>\n",
              "      <th>NU_NOTA_COMP2</th>\n",
              "      <th>NU_NOTA_COMP3</th>\n",
              "      <th>NU_NOTA_COMP4</th>\n",
              "      <th>NU_NOTA_COMP5</th>\n",
              "    </tr>\n",
              "  </thead>\n",
              "  <tbody>\n",
              "    <tr>\n",
              "      <th>0</th>\n",
              "      <td>F</td>\n",
              "      <td>Contagem</td>\n",
              "      <td>513.6</td>\n",
              "      <td>575.5</td>\n",
              "      <td>677.0</td>\n",
              "      <td>860.0</td>\n",
              "      <td>570.7</td>\n",
              "      <td>0</td>\n",
              "      <td>160.0</td>\n",
              "      <td>120.0</td>\n",
              "      <td>180.0</td>\n",
              "      <td>200.0</td>\n",
              "      <td>200.0</td>\n",
              "    </tr>\n",
              "    <tr>\n",
              "      <th>1</th>\n",
              "      <td>F</td>\n",
              "      <td>Uberlândia</td>\n",
              "      <td>NaN</td>\n",
              "      <td>NaN</td>\n",
              "      <td>NaN</td>\n",
              "      <td>NaN</td>\n",
              "      <td>NaN</td>\n",
              "      <td>0</td>\n",
              "      <td>NaN</td>\n",
              "      <td>NaN</td>\n",
              "      <td>NaN</td>\n",
              "      <td>NaN</td>\n",
              "      <td>NaN</td>\n",
              "    </tr>\n",
              "    <tr>\n",
              "      <th>2</th>\n",
              "      <td>M</td>\n",
              "      <td>Esmeraldas</td>\n",
              "      <td>394.3</td>\n",
              "      <td>494.1</td>\n",
              "      <td>397.5</td>\n",
              "      <td>600.0</td>\n",
              "      <td>479.5</td>\n",
              "      <td>0</td>\n",
              "      <td>140.0</td>\n",
              "      <td>140.0</td>\n",
              "      <td>120.0</td>\n",
              "      <td>120.0</td>\n",
              "      <td>80.0</td>\n",
              "    </tr>\n",
              "    <tr>\n",
              "      <th>3</th>\n",
              "      <td>F</td>\n",
              "      <td>Conselheiro Lafaiete</td>\n",
              "      <td>560.0</td>\n",
              "      <td>592.0</td>\n",
              "      <td>695.1</td>\n",
              "      <td>540.0</td>\n",
              "      <td>591.1</td>\n",
              "      <td>0</td>\n",
              "      <td>120.0</td>\n",
              "      <td>120.0</td>\n",
              "      <td>120.0</td>\n",
              "      <td>120.0</td>\n",
              "      <td>60.0</td>\n",
              "    </tr>\n",
              "    <tr>\n",
              "      <th>4</th>\n",
              "      <td>F</td>\n",
              "      <td>São Joaquim de Bicas</td>\n",
              "      <td>504.2</td>\n",
              "      <td>554.6</td>\n",
              "      <td>462.4</td>\n",
              "      <td>580.0</td>\n",
              "      <td>519.7</td>\n",
              "      <td>0</td>\n",
              "      <td>120.0</td>\n",
              "      <td>120.0</td>\n",
              "      <td>120.0</td>\n",
              "      <td>120.0</td>\n",
              "      <td>100.0</td>\n",
              "    </tr>\n",
              "  </tbody>\n",
              "</table>\n",
              "</div>\n",
              "      <button class=\"colab-df-convert\" onclick=\"convertToInteractive('df-4c13d527-e0ee-4276-ba2a-edd839c2f22e')\"\n",
              "              title=\"Convert this dataframe to an interactive table.\"\n",
              "              style=\"display:none;\">\n",
              "        \n",
              "  <svg xmlns=\"http://www.w3.org/2000/svg\" height=\"24px\"viewBox=\"0 0 24 24\"\n",
              "       width=\"24px\">\n",
              "    <path d=\"M0 0h24v24H0V0z\" fill=\"none\"/>\n",
              "    <path d=\"M18.56 5.44l.94 2.06.94-2.06 2.06-.94-2.06-.94-.94-2.06-.94 2.06-2.06.94zm-11 1L8.5 8.5l.94-2.06 2.06-.94-2.06-.94L8.5 2.5l-.94 2.06-2.06.94zm10 10l.94 2.06.94-2.06 2.06-.94-2.06-.94-.94-2.06-.94 2.06-2.06.94z\"/><path d=\"M17.41 7.96l-1.37-1.37c-.4-.4-.92-.59-1.43-.59-.52 0-1.04.2-1.43.59L10.3 9.45l-7.72 7.72c-.78.78-.78 2.05 0 2.83L4 21.41c.39.39.9.59 1.41.59.51 0 1.02-.2 1.41-.59l7.78-7.78 2.81-2.81c.8-.78.8-2.07 0-2.86zM5.41 20L4 18.59l7.72-7.72 1.47 1.35L5.41 20z\"/>\n",
              "  </svg>\n",
              "      </button>\n",
              "      \n",
              "  <style>\n",
              "    .colab-df-container {\n",
              "      display:flex;\n",
              "      flex-wrap:wrap;\n",
              "      gap: 12px;\n",
              "    }\n",
              "\n",
              "    .colab-df-convert {\n",
              "      background-color: #E8F0FE;\n",
              "      border: none;\n",
              "      border-radius: 50%;\n",
              "      cursor: pointer;\n",
              "      display: none;\n",
              "      fill: #1967D2;\n",
              "      height: 32px;\n",
              "      padding: 0 0 0 0;\n",
              "      width: 32px;\n",
              "    }\n",
              "\n",
              "    .colab-df-convert:hover {\n",
              "      background-color: #E2EBFA;\n",
              "      box-shadow: 0px 1px 2px rgba(60, 64, 67, 0.3), 0px 1px 3px 1px rgba(60, 64, 67, 0.15);\n",
              "      fill: #174EA6;\n",
              "    }\n",
              "\n",
              "    [theme=dark] .colab-df-convert {\n",
              "      background-color: #3B4455;\n",
              "      fill: #D2E3FC;\n",
              "    }\n",
              "\n",
              "    [theme=dark] .colab-df-convert:hover {\n",
              "      background-color: #434B5C;\n",
              "      box-shadow: 0px 1px 3px 1px rgba(0, 0, 0, 0.15);\n",
              "      filter: drop-shadow(0px 1px 2px rgba(0, 0, 0, 0.3));\n",
              "      fill: #FFFFFF;\n",
              "    }\n",
              "  </style>\n",
              "\n",
              "      <script>\n",
              "        const buttonEl =\n",
              "          document.querySelector('#df-4c13d527-e0ee-4276-ba2a-edd839c2f22e button.colab-df-convert');\n",
              "        buttonEl.style.display =\n",
              "          google.colab.kernel.accessAllowed ? 'block' : 'none';\n",
              "\n",
              "        async function convertToInteractive(key) {\n",
              "          const element = document.querySelector('#df-4c13d527-e0ee-4276-ba2a-edd839c2f22e');\n",
              "          const dataTable =\n",
              "            await google.colab.kernel.invokeFunction('convertToInteractive',\n",
              "                                                     [key], {});\n",
              "          if (!dataTable) return;\n",
              "\n",
              "          const docLinkHtml = 'Like what you see? Visit the ' +\n",
              "            '<a target=\"_blank\" href=https://colab.research.google.com/notebooks/data_table.ipynb>data table notebook</a>'\n",
              "            + ' to learn more about interactive tables.';\n",
              "          element.innerHTML = '';\n",
              "          dataTable['output_type'] = 'display_data';\n",
              "          await google.colab.output.renderOutput(dataTable, element);\n",
              "          const docLink = document.createElement('div');\n",
              "          docLink.innerHTML = docLinkHtml;\n",
              "          element.appendChild(docLink);\n",
              "        }\n",
              "      </script>\n",
              "    </div>\n",
              "  </div>\n",
              "  "
            ]
          },
          "metadata": {},
          "execution_count": 4
        }
      ],
      "source": [
        "#Verificando a nova base, temos:\n",
        "df_exploratoria.head()"
      ]
    },
    {
      "cell_type": "code",
      "execution_count": 5,
      "metadata": {
        "colab": {
          "base_uri": "https://localhost:8080/"
        },
        "id": "OS0gZpIlX08p",
        "outputId": "c0892b49-2860-48e8-e638-3e84a3c24e66"
      },
      "outputs": [
        {
          "output_type": "execute_result",
          "data": {
            "text/plain": [
              "TP_SEXO                     object\n",
              "NO_MUNICIPIO_RESIDENCIA     object\n",
              "NU_NOTA_CN                 float64\n",
              "NU_NOTA_CH                 float64\n",
              "NU_NOTA_MT                 float64\n",
              "NU_NOTA_REDACAO            float64\n",
              "NU_NOTA_LC                 float64\n",
              "IN_TREINEIRO                 int64\n",
              "NU_NOTA_COMP1              float64\n",
              "NU_NOTA_COMP2              float64\n",
              "NU_NOTA_COMP3              float64\n",
              "NU_NOTA_COMP4              float64\n",
              "NU_NOTA_COMP5              float64\n",
              "dtype: object"
            ]
          },
          "metadata": {},
          "execution_count": 5
        }
      ],
      "source": [
        "#Check dos tipos de features\n",
        "df_exploratoria.dtypes"
      ]
    },
    {
      "cell_type": "code",
      "source": [
        "#Calculando a média ponderada a partir dos pesos: NU_NOTA_CN=1, NU_NOTA_CH=3, NU_NOTA_MT=1, NU_NOTA_REDACAO=3, NU_NOTA_LC=2, temos:\n",
        "df_exploratoria[\"Nota_MP\"]=df_exploratoria[\"NU_NOTA_CN\"]*1+df_exploratoria[\"NU_NOTA_CH\"]*3+df_exploratoria[\"NU_NOTA_MT\"]*1+df_exploratoria[\"NU_NOTA_REDACAO\"]*3+df_exploratoria[\"NU_NOTA_LC\"]*2"
      ],
      "metadata": {
        "id": "eTK9jOblaAwV"
      },
      "execution_count": 6,
      "outputs": []
    },
    {
      "cell_type": "code",
      "source": [
        "#Verificando a base de dados com o cálculo da média ponderada das notas, temos:\n",
        "df_exploratoria.head()"
      ],
      "metadata": {
        "colab": {
          "base_uri": "https://localhost:8080/",
          "height": 270
        },
        "id": "jDksGwoZbbgi",
        "outputId": "d386d98e-12e0-4fdc-8787-5b563fdd6923"
      },
      "execution_count": 7,
      "outputs": [
        {
          "output_type": "execute_result",
          "data": {
            "text/plain": [
              "  TP_SEXO NO_MUNICIPIO_RESIDENCIA  NU_NOTA_CN  NU_NOTA_CH  NU_NOTA_MT  \\\n",
              "0       F                Contagem       513.6       575.5       677.0   \n",
              "1       F              Uberlândia         NaN         NaN         NaN   \n",
              "2       M              Esmeraldas       394.3       494.1       397.5   \n",
              "3       F    Conselheiro Lafaiete       560.0       592.0       695.1   \n",
              "4       F    São Joaquim de Bicas       504.2       554.6       462.4   \n",
              "\n",
              "   NU_NOTA_REDACAO  NU_NOTA_LC  IN_TREINEIRO  NU_NOTA_COMP1  NU_NOTA_COMP2  \\\n",
              "0            860.0       570.7             0          160.0          120.0   \n",
              "1              NaN         NaN             0            NaN            NaN   \n",
              "2            600.0       479.5             0          140.0          140.0   \n",
              "3            540.0       591.1             0          120.0          120.0   \n",
              "4            580.0       519.7             0          120.0          120.0   \n",
              "\n",
              "   NU_NOTA_COMP3  NU_NOTA_COMP4  NU_NOTA_COMP5  Nota_MP  \n",
              "0          180.0          200.0          200.0   6638.5  \n",
              "1            NaN            NaN            NaN      NaN  \n",
              "2          120.0          120.0           80.0   5033.1  \n",
              "3          120.0          120.0           60.0   5833.3  \n",
              "4          120.0          120.0          100.0   5409.8  "
            ],
            "text/html": [
              "\n",
              "  <div id=\"df-ae24f24e-6756-4670-a19a-5f104e23cf54\">\n",
              "    <div class=\"colab-df-container\">\n",
              "      <div>\n",
              "<style scoped>\n",
              "    .dataframe tbody tr th:only-of-type {\n",
              "        vertical-align: middle;\n",
              "    }\n",
              "\n",
              "    .dataframe tbody tr th {\n",
              "        vertical-align: top;\n",
              "    }\n",
              "\n",
              "    .dataframe thead th {\n",
              "        text-align: right;\n",
              "    }\n",
              "</style>\n",
              "<table border=\"1\" class=\"dataframe\">\n",
              "  <thead>\n",
              "    <tr style=\"text-align: right;\">\n",
              "      <th></th>\n",
              "      <th>TP_SEXO</th>\n",
              "      <th>NO_MUNICIPIO_RESIDENCIA</th>\n",
              "      <th>NU_NOTA_CN</th>\n",
              "      <th>NU_NOTA_CH</th>\n",
              "      <th>NU_NOTA_MT</th>\n",
              "      <th>NU_NOTA_REDACAO</th>\n",
              "      <th>NU_NOTA_LC</th>\n",
              "      <th>IN_TREINEIRO</th>\n",
              "      <th>NU_NOTA_COMP1</th>\n",
              "      <th>NU_NOTA_COMP2</th>\n",
              "      <th>NU_NOTA_COMP3</th>\n",
              "      <th>NU_NOTA_COMP4</th>\n",
              "      <th>NU_NOTA_COMP5</th>\n",
              "      <th>Nota_MP</th>\n",
              "    </tr>\n",
              "  </thead>\n",
              "  <tbody>\n",
              "    <tr>\n",
              "      <th>0</th>\n",
              "      <td>F</td>\n",
              "      <td>Contagem</td>\n",
              "      <td>513.6</td>\n",
              "      <td>575.5</td>\n",
              "      <td>677.0</td>\n",
              "      <td>860.0</td>\n",
              "      <td>570.7</td>\n",
              "      <td>0</td>\n",
              "      <td>160.0</td>\n",
              "      <td>120.0</td>\n",
              "      <td>180.0</td>\n",
              "      <td>200.0</td>\n",
              "      <td>200.0</td>\n",
              "      <td>6638.5</td>\n",
              "    </tr>\n",
              "    <tr>\n",
              "      <th>1</th>\n",
              "      <td>F</td>\n",
              "      <td>Uberlândia</td>\n",
              "      <td>NaN</td>\n",
              "      <td>NaN</td>\n",
              "      <td>NaN</td>\n",
              "      <td>NaN</td>\n",
              "      <td>NaN</td>\n",
              "      <td>0</td>\n",
              "      <td>NaN</td>\n",
              "      <td>NaN</td>\n",
              "      <td>NaN</td>\n",
              "      <td>NaN</td>\n",
              "      <td>NaN</td>\n",
              "      <td>NaN</td>\n",
              "    </tr>\n",
              "    <tr>\n",
              "      <th>2</th>\n",
              "      <td>M</td>\n",
              "      <td>Esmeraldas</td>\n",
              "      <td>394.3</td>\n",
              "      <td>494.1</td>\n",
              "      <td>397.5</td>\n",
              "      <td>600.0</td>\n",
              "      <td>479.5</td>\n",
              "      <td>0</td>\n",
              "      <td>140.0</td>\n",
              "      <td>140.0</td>\n",
              "      <td>120.0</td>\n",
              "      <td>120.0</td>\n",
              "      <td>80.0</td>\n",
              "      <td>5033.1</td>\n",
              "    </tr>\n",
              "    <tr>\n",
              "      <th>3</th>\n",
              "      <td>F</td>\n",
              "      <td>Conselheiro Lafaiete</td>\n",
              "      <td>560.0</td>\n",
              "      <td>592.0</td>\n",
              "      <td>695.1</td>\n",
              "      <td>540.0</td>\n",
              "      <td>591.1</td>\n",
              "      <td>0</td>\n",
              "      <td>120.0</td>\n",
              "      <td>120.0</td>\n",
              "      <td>120.0</td>\n",
              "      <td>120.0</td>\n",
              "      <td>60.0</td>\n",
              "      <td>5833.3</td>\n",
              "    </tr>\n",
              "    <tr>\n",
              "      <th>4</th>\n",
              "      <td>F</td>\n",
              "      <td>São Joaquim de Bicas</td>\n",
              "      <td>504.2</td>\n",
              "      <td>554.6</td>\n",
              "      <td>462.4</td>\n",
              "      <td>580.0</td>\n",
              "      <td>519.7</td>\n",
              "      <td>0</td>\n",
              "      <td>120.0</td>\n",
              "      <td>120.0</td>\n",
              "      <td>120.0</td>\n",
              "      <td>120.0</td>\n",
              "      <td>100.0</td>\n",
              "      <td>5409.8</td>\n",
              "    </tr>\n",
              "  </tbody>\n",
              "</table>\n",
              "</div>\n",
              "      <button class=\"colab-df-convert\" onclick=\"convertToInteractive('df-ae24f24e-6756-4670-a19a-5f104e23cf54')\"\n",
              "              title=\"Convert this dataframe to an interactive table.\"\n",
              "              style=\"display:none;\">\n",
              "        \n",
              "  <svg xmlns=\"http://www.w3.org/2000/svg\" height=\"24px\"viewBox=\"0 0 24 24\"\n",
              "       width=\"24px\">\n",
              "    <path d=\"M0 0h24v24H0V0z\" fill=\"none\"/>\n",
              "    <path d=\"M18.56 5.44l.94 2.06.94-2.06 2.06-.94-2.06-.94-.94-2.06-.94 2.06-2.06.94zm-11 1L8.5 8.5l.94-2.06 2.06-.94-2.06-.94L8.5 2.5l-.94 2.06-2.06.94zm10 10l.94 2.06.94-2.06 2.06-.94-2.06-.94-.94-2.06-.94 2.06-2.06.94z\"/><path d=\"M17.41 7.96l-1.37-1.37c-.4-.4-.92-.59-1.43-.59-.52 0-1.04.2-1.43.59L10.3 9.45l-7.72 7.72c-.78.78-.78 2.05 0 2.83L4 21.41c.39.39.9.59 1.41.59.51 0 1.02-.2 1.41-.59l7.78-7.78 2.81-2.81c.8-.78.8-2.07 0-2.86zM5.41 20L4 18.59l7.72-7.72 1.47 1.35L5.41 20z\"/>\n",
              "  </svg>\n",
              "      </button>\n",
              "      \n",
              "  <style>\n",
              "    .colab-df-container {\n",
              "      display:flex;\n",
              "      flex-wrap:wrap;\n",
              "      gap: 12px;\n",
              "    }\n",
              "\n",
              "    .colab-df-convert {\n",
              "      background-color: #E8F0FE;\n",
              "      border: none;\n",
              "      border-radius: 50%;\n",
              "      cursor: pointer;\n",
              "      display: none;\n",
              "      fill: #1967D2;\n",
              "      height: 32px;\n",
              "      padding: 0 0 0 0;\n",
              "      width: 32px;\n",
              "    }\n",
              "\n",
              "    .colab-df-convert:hover {\n",
              "      background-color: #E2EBFA;\n",
              "      box-shadow: 0px 1px 2px rgba(60, 64, 67, 0.3), 0px 1px 3px 1px rgba(60, 64, 67, 0.15);\n",
              "      fill: #174EA6;\n",
              "    }\n",
              "\n",
              "    [theme=dark] .colab-df-convert {\n",
              "      background-color: #3B4455;\n",
              "      fill: #D2E3FC;\n",
              "    }\n",
              "\n",
              "    [theme=dark] .colab-df-convert:hover {\n",
              "      background-color: #434B5C;\n",
              "      box-shadow: 0px 1px 3px 1px rgba(0, 0, 0, 0.15);\n",
              "      filter: drop-shadow(0px 1px 2px rgba(0, 0, 0, 0.3));\n",
              "      fill: #FFFFFF;\n",
              "    }\n",
              "  </style>\n",
              "\n",
              "      <script>\n",
              "        const buttonEl =\n",
              "          document.querySelector('#df-ae24f24e-6756-4670-a19a-5f104e23cf54 button.colab-df-convert');\n",
              "        buttonEl.style.display =\n",
              "          google.colab.kernel.accessAllowed ? 'block' : 'none';\n",
              "\n",
              "        async function convertToInteractive(key) {\n",
              "          const element = document.querySelector('#df-ae24f24e-6756-4670-a19a-5f104e23cf54');\n",
              "          const dataTable =\n",
              "            await google.colab.kernel.invokeFunction('convertToInteractive',\n",
              "                                                     [key], {});\n",
              "          if (!dataTable) return;\n",
              "\n",
              "          const docLinkHtml = 'Like what you see? Visit the ' +\n",
              "            '<a target=\"_blank\" href=https://colab.research.google.com/notebooks/data_table.ipynb>data table notebook</a>'\n",
              "            + ' to learn more about interactive tables.';\n",
              "          element.innerHTML = '';\n",
              "          dataTable['output_type'] = 'display_data';\n",
              "          await google.colab.output.renderOutput(dataTable, element);\n",
              "          const docLink = document.createElement('div');\n",
              "          docLink.innerHTML = docLinkHtml;\n",
              "          element.appendChild(docLink);\n",
              "        }\n",
              "      </script>\n",
              "    </div>\n",
              "  </div>\n",
              "  "
            ]
          },
          "metadata": {},
          "execution_count": 7
        }
      ]
    },
    {
      "cell_type": "code",
      "source": [
        "#Verificando a representatividade do sexo dos candidatos temos 61% do sexo feminino e 39% do sexo masculino. \n",
        "df_exploratoria.TP_SEXO.value_counts()/df_exploratoria.shape[0]"
      ],
      "metadata": {
        "colab": {
          "base_uri": "https://localhost:8080/"
        },
        "id": "beizRusWx_i9",
        "outputId": "f193a0f7-0c79-449c-8d65-7732eec03aa8"
      },
      "execution_count": 8,
      "outputs": [
        {
          "output_type": "execute_result",
          "data": {
            "text/plain": [
              "F    0.605302\n",
              "M    0.394698\n",
              "Name: TP_SEXO, dtype: float64"
            ]
          },
          "metadata": {},
          "execution_count": 8
        }
      ]
    },
    {
      "cell_type": "code",
      "source": [
        "#Verificando a representatividade dos tipos de candidatos temos 13% de participantes treineiros. \n",
        "df_exploratoria.IN_TREINEIRO.value_counts()/df_exploratoria.shape[0]"
      ],
      "metadata": {
        "colab": {
          "base_uri": "https://localhost:8080/"
        },
        "id": "3X2WFnt2yi53",
        "outputId": "0a6d242c-3637-41e6-9be7-4c6890e6eea5"
      },
      "execution_count": 9,
      "outputs": [
        {
          "output_type": "execute_result",
          "data": {
            "text/plain": [
              "0    0.870484\n",
              "1    0.129516\n",
              "Name: IN_TREINEIRO, dtype: float64"
            ]
          },
          "metadata": {},
          "execution_count": 9
        }
      ]
    },
    {
      "cell_type": "code",
      "source": [
        "#Verificando a representatividade dos municípios de origem dos canditados, temos  a maior parte de Belo Horizonte (15%), seguida de Uberlândia (4%).\n",
        "df_exploratoria.NO_MUNICIPIO_RESIDENCIA.value_counts()/df_exploratoria.shape[0]"
      ],
      "metadata": {
        "colab": {
          "base_uri": "https://localhost:8080/"
        },
        "id": "0viEzPy9TWxf",
        "outputId": "940b0cc3-2a3d-4970-f16a-13522690fba7"
      },
      "execution_count": 10,
      "outputs": [
        {
          "output_type": "execute_result",
          "data": {
            "text/plain": [
              "Belo Horizonte        0.148259\n",
              "Uberlândia            0.039781\n",
              "Contagem              0.033917\n",
              "Montes Claros         0.032015\n",
              "Juiz de Fora          0.029565\n",
              "                        ...   \n",
              "Ubatuba               0.000002\n",
              "Paulo Afonso          0.000002\n",
              "Minaçu                0.000002\n",
              "Timbaúba              0.000002\n",
              "Conceição da Barra    0.000002\n",
              "Name: NO_MUNICIPIO_RESIDENCIA, Length: 1483, dtype: float64"
            ]
          },
          "metadata": {},
          "execution_count": 10
        }
      ]
    },
    {
      "cell_type": "code",
      "source": [
        "df_exploratoria.shape"
      ],
      "metadata": {
        "colab": {
          "base_uri": "https://localhost:8080/"
        },
        "id": "4sGnNePdV6sV",
        "outputId": "5537e85f-df90-42ce-b93c-a9ab477e4ba5"
      },
      "execution_count": 11,
      "outputs": [
        {
          "output_type": "execute_result",
          "data": {
            "text/plain": [
              "(534627, 14)"
            ]
          },
          "metadata": {},
          "execution_count": 11
        }
      ]
    },
    {
      "cell_type": "code",
      "source": [
        "#Verificando as notas ponderadas nulas, temos 144.542 casos, o que representa 27% do total de casos (após a aplicação dos filtros anteriores). A partir de então, sendo pouco representativo os casos nulos, excluiremos da base para análises posteriores.\n",
        "print(df_exploratoria.Nota_MP.isna().sum())\n",
        "df_exploratoria=df_exploratoria.dropna(subset=[\"Nota_MP\"])\n",
        "print(df_exploratoria.Nota_MP.isna().sum())\n"
      ],
      "metadata": {
        "colab": {
          "base_uri": "https://localhost:8080/"
        },
        "id": "_LqS-nLIVcmu",
        "outputId": "d26948d2-e60d-4ea7-d7ad-c1a93801859c"
      },
      "execution_count": 12,
      "outputs": [
        {
          "output_type": "stream",
          "name": "stdout",
          "text": [
            "144542\n",
            "0\n"
          ]
        }
      ]
    },
    {
      "cell_type": "code",
      "source": [
        "df_exploratoria_treineiros=df_exploratoria.groupby(['IN_TREINEIRO']).agg(Contagem=('IN_TREINEIRO','count'),Media_Nota_Ponderada=('Nota_MP','mean'),Mediana_Nota_Ponderada=('Nota_MP','median'),Desvio_Padrão_Nota_Ponderada=('Nota_MP','std'))\n",
        "df_exploratoria_treineiros.head()"
      ],
      "metadata": {
        "colab": {
          "base_uri": "https://localhost:8080/",
          "height": 143
        },
        "id": "8uKfa9toTwHd",
        "outputId": "2db558bc-4ce8-4e28-f71d-7eb41be035f2"
      },
      "execution_count": 13,
      "outputs": [
        {
          "output_type": "execute_result",
          "data": {
            "text/plain": [
              "              Contagem  Media_Nota_Ponderada  Mediana_Nota_Ponderada  \\\n",
              "IN_TREINEIRO                                                           \n",
              "0               329785           5493.556435                  5443.2   \n",
              "1                60300           5502.574425                  5541.8   \n",
              "\n",
              "              Desvio_Padrão_Nota_Ponderada  \n",
              "IN_TREINEIRO                                \n",
              "0                               954.707278  \n",
              "1                               925.721914  "
            ],
            "text/html": [
              "\n",
              "  <div id=\"df-0f5a53b3-3685-4c32-ac71-fe6741715158\">\n",
              "    <div class=\"colab-df-container\">\n",
              "      <div>\n",
              "<style scoped>\n",
              "    .dataframe tbody tr th:only-of-type {\n",
              "        vertical-align: middle;\n",
              "    }\n",
              "\n",
              "    .dataframe tbody tr th {\n",
              "        vertical-align: top;\n",
              "    }\n",
              "\n",
              "    .dataframe thead th {\n",
              "        text-align: right;\n",
              "    }\n",
              "</style>\n",
              "<table border=\"1\" class=\"dataframe\">\n",
              "  <thead>\n",
              "    <tr style=\"text-align: right;\">\n",
              "      <th></th>\n",
              "      <th>Contagem</th>\n",
              "      <th>Media_Nota_Ponderada</th>\n",
              "      <th>Mediana_Nota_Ponderada</th>\n",
              "      <th>Desvio_Padrão_Nota_Ponderada</th>\n",
              "    </tr>\n",
              "    <tr>\n",
              "      <th>IN_TREINEIRO</th>\n",
              "      <th></th>\n",
              "      <th></th>\n",
              "      <th></th>\n",
              "      <th></th>\n",
              "    </tr>\n",
              "  </thead>\n",
              "  <tbody>\n",
              "    <tr>\n",
              "      <th>0</th>\n",
              "      <td>329785</td>\n",
              "      <td>5493.556435</td>\n",
              "      <td>5443.2</td>\n",
              "      <td>954.707278</td>\n",
              "    </tr>\n",
              "    <tr>\n",
              "      <th>1</th>\n",
              "      <td>60300</td>\n",
              "      <td>5502.574425</td>\n",
              "      <td>5541.8</td>\n",
              "      <td>925.721914</td>\n",
              "    </tr>\n",
              "  </tbody>\n",
              "</table>\n",
              "</div>\n",
              "      <button class=\"colab-df-convert\" onclick=\"convertToInteractive('df-0f5a53b3-3685-4c32-ac71-fe6741715158')\"\n",
              "              title=\"Convert this dataframe to an interactive table.\"\n",
              "              style=\"display:none;\">\n",
              "        \n",
              "  <svg xmlns=\"http://www.w3.org/2000/svg\" height=\"24px\"viewBox=\"0 0 24 24\"\n",
              "       width=\"24px\">\n",
              "    <path d=\"M0 0h24v24H0V0z\" fill=\"none\"/>\n",
              "    <path d=\"M18.56 5.44l.94 2.06.94-2.06 2.06-.94-2.06-.94-.94-2.06-.94 2.06-2.06.94zm-11 1L8.5 8.5l.94-2.06 2.06-.94-2.06-.94L8.5 2.5l-.94 2.06-2.06.94zm10 10l.94 2.06.94-2.06 2.06-.94-2.06-.94-.94-2.06-.94 2.06-2.06.94z\"/><path d=\"M17.41 7.96l-1.37-1.37c-.4-.4-.92-.59-1.43-.59-.52 0-1.04.2-1.43.59L10.3 9.45l-7.72 7.72c-.78.78-.78 2.05 0 2.83L4 21.41c.39.39.9.59 1.41.59.51 0 1.02-.2 1.41-.59l7.78-7.78 2.81-2.81c.8-.78.8-2.07 0-2.86zM5.41 20L4 18.59l7.72-7.72 1.47 1.35L5.41 20z\"/>\n",
              "  </svg>\n",
              "      </button>\n",
              "      \n",
              "  <style>\n",
              "    .colab-df-container {\n",
              "      display:flex;\n",
              "      flex-wrap:wrap;\n",
              "      gap: 12px;\n",
              "    }\n",
              "\n",
              "    .colab-df-convert {\n",
              "      background-color: #E8F0FE;\n",
              "      border: none;\n",
              "      border-radius: 50%;\n",
              "      cursor: pointer;\n",
              "      display: none;\n",
              "      fill: #1967D2;\n",
              "      height: 32px;\n",
              "      padding: 0 0 0 0;\n",
              "      width: 32px;\n",
              "    }\n",
              "\n",
              "    .colab-df-convert:hover {\n",
              "      background-color: #E2EBFA;\n",
              "      box-shadow: 0px 1px 2px rgba(60, 64, 67, 0.3), 0px 1px 3px 1px rgba(60, 64, 67, 0.15);\n",
              "      fill: #174EA6;\n",
              "    }\n",
              "\n",
              "    [theme=dark] .colab-df-convert {\n",
              "      background-color: #3B4455;\n",
              "      fill: #D2E3FC;\n",
              "    }\n",
              "\n",
              "    [theme=dark] .colab-df-convert:hover {\n",
              "      background-color: #434B5C;\n",
              "      box-shadow: 0px 1px 3px 1px rgba(0, 0, 0, 0.15);\n",
              "      filter: drop-shadow(0px 1px 2px rgba(0, 0, 0, 0.3));\n",
              "      fill: #FFFFFF;\n",
              "    }\n",
              "  </style>\n",
              "\n",
              "      <script>\n",
              "        const buttonEl =\n",
              "          document.querySelector('#df-0f5a53b3-3685-4c32-ac71-fe6741715158 button.colab-df-convert');\n",
              "        buttonEl.style.display =\n",
              "          google.colab.kernel.accessAllowed ? 'block' : 'none';\n",
              "\n",
              "        async function convertToInteractive(key) {\n",
              "          const element = document.querySelector('#df-0f5a53b3-3685-4c32-ac71-fe6741715158');\n",
              "          const dataTable =\n",
              "            await google.colab.kernel.invokeFunction('convertToInteractive',\n",
              "                                                     [key], {});\n",
              "          if (!dataTable) return;\n",
              "\n",
              "          const docLinkHtml = 'Like what you see? Visit the ' +\n",
              "            '<a target=\"_blank\" href=https://colab.research.google.com/notebooks/data_table.ipynb>data table notebook</a>'\n",
              "            + ' to learn more about interactive tables.';\n",
              "          element.innerHTML = '';\n",
              "          dataTable['output_type'] = 'display_data';\n",
              "          await google.colab.output.renderOutput(dataTable, element);\n",
              "          const docLink = document.createElement('div');\n",
              "          docLink.innerHTML = docLinkHtml;\n",
              "          element.appendChild(docLink);\n",
              "        }\n",
              "      </script>\n",
              "    </div>\n",
              "  </div>\n",
              "  "
            ]
          },
          "metadata": {},
          "execution_count": 13
        }
      ]
    },
    {
      "cell_type": "code",
      "source": [
        "#A partir da tabela acima é possível evidenciar que 11,27% dos candidatos fizeram a prova como treineiro (sem considerar as notas nulas) e que as notas obtidas como treineiro são levemente maiores. Isso pode ocorrer devido ao fato dos candidatos que fazem a prova como não treineiros sentem-se pressionados para atingir boas notas para ingressar na universidade - que pode ser concluído pelo desvio padrão da nota global ponderada maior em candidatos que executam a provam como não treineiros."
      ],
      "metadata": {
        "id": "SgTBl2HIXnzQ"
      },
      "execution_count": 14,
      "outputs": []
    },
    {
      "cell_type": "code",
      "source": [
        "df_exploratoria.dtypes"
      ],
      "metadata": {
        "colab": {
          "base_uri": "https://localhost:8080/"
        },
        "id": "aJCYrBvvZtYE",
        "outputId": "be056dbb-bde0-42fc-ad55-0392250f3315"
      },
      "execution_count": 15,
      "outputs": [
        {
          "output_type": "execute_result",
          "data": {
            "text/plain": [
              "TP_SEXO                     object\n",
              "NO_MUNICIPIO_RESIDENCIA     object\n",
              "NU_NOTA_CN                 float64\n",
              "NU_NOTA_CH                 float64\n",
              "NU_NOTA_MT                 float64\n",
              "NU_NOTA_REDACAO            float64\n",
              "NU_NOTA_LC                 float64\n",
              "IN_TREINEIRO                 int64\n",
              "NU_NOTA_COMP1              float64\n",
              "NU_NOTA_COMP2              float64\n",
              "NU_NOTA_COMP3              float64\n",
              "NU_NOTA_COMP4              float64\n",
              "NU_NOTA_COMP5              float64\n",
              "Nota_MP                    float64\n",
              "dtype: object"
            ]
          },
          "metadata": {},
          "execution_count": 15
        }
      ]
    },
    {
      "cell_type": "code",
      "source": [
        "#Agrupando as notas por municipio e ordenando a mediana da nota ponderada do maior para o menor, concluimos que os municipios com as 5 maiores notas tiveram um único candidato. Os municipoios de Mongaguá e Corumbá tiveram as maiores notas (acima de 7.800), sendo a retação a nota destaque (entre 960 e 980 pontos).\n",
        "#Percebe-se ainda que os candidatos com maiores notas tiveram suas notas \"prejudicadas\" pelas provas de Ciências da Natureza e Linguagens e Códigos.\n",
        "df_exploratoria_notas_municipio=df_exploratoria.groupby(['NO_MUNICIPIO_RESIDENCIA']).agg(Contagem=('NO_MUNICIPIO_RESIDENCIA','count'),Mediana_Nota_Ponderada=('Nota_MP','median'),Mediana_NU_NOTA_CN=('NU_NOTA_CN','median'),Mediana_NU_NOTA_CH=('NU_NOTA_CH','median'),Mediana_NU_NOTA_MT=('NU_NOTA_MT','median'),Mediana_NU_NOTA_REDACAO=('NU_NOTA_REDACAO','median'),Mediana_NU_NOTA_LC=('NU_NOTA_LC','median'))\n",
        "df_exploratoria_notas_municipio_ordenada=df_exploratoria_notas_municipio.sort_values('Mediana_Nota_Ponderada',ascending=False)\n",
        "df_exploratoria_notas_municipio_ordenada.head()"
      ],
      "metadata": {
        "colab": {
          "base_uri": "https://localhost:8080/",
          "height": 302
        },
        "id": "4MjdfdjsZpo6",
        "outputId": "694efa4e-95a8-4501-e397-b1cbf87c156a"
      },
      "execution_count": 16,
      "outputs": [
        {
          "output_type": "execute_result",
          "data": {
            "text/plain": [
              "                         Contagem  Mediana_Nota_Ponderada  Mediana_NU_NOTA_CN  \\\n",
              "NO_MUNICIPIO_RESIDENCIA                                                         \n",
              "Mongaguá                        1                  7855.2               704.3   \n",
              "Corumbá                         1                  7811.2               631.4   \n",
              "Guararapes                      1                  7787.4               664.7   \n",
              "Barra da Estiva                 1                  7571.8               675.9   \n",
              "Valentim Gentil                 1                  7569.7               657.2   \n",
              "\n",
              "                         Mediana_NU_NOTA_CH  Mediana_NU_NOTA_MT  \\\n",
              "NO_MUNICIPIO_RESIDENCIA                                           \n",
              "Mongaguá                              670.0               897.9   \n",
              "Corumbá                               726.0               846.2   \n",
              "Guararapes                            685.2               841.9   \n",
              "Barra da Estiva                       689.9               952.8   \n",
              "Valentim Gentil                       706.6               782.5   \n",
              "\n",
              "                         Mediana_NU_NOTA_REDACAO  Mediana_NU_NOTA_LC  \n",
              "NO_MUNICIPIO_RESIDENCIA                                               \n",
              "Mongaguá                                   980.0               651.5  \n",
              "Corumbá                                    960.0               637.8  \n",
              "Guararapes                                 980.0               642.6  \n",
              "Barra da Estiva                            860.0               646.7  \n",
              "Valentim Gentil                            920.0               625.1  "
            ],
            "text/html": [
              "\n",
              "  <div id=\"df-c52b7ff2-2f92-4df5-b9f6-e351618674cd\">\n",
              "    <div class=\"colab-df-container\">\n",
              "      <div>\n",
              "<style scoped>\n",
              "    .dataframe tbody tr th:only-of-type {\n",
              "        vertical-align: middle;\n",
              "    }\n",
              "\n",
              "    .dataframe tbody tr th {\n",
              "        vertical-align: top;\n",
              "    }\n",
              "\n",
              "    .dataframe thead th {\n",
              "        text-align: right;\n",
              "    }\n",
              "</style>\n",
              "<table border=\"1\" class=\"dataframe\">\n",
              "  <thead>\n",
              "    <tr style=\"text-align: right;\">\n",
              "      <th></th>\n",
              "      <th>Contagem</th>\n",
              "      <th>Mediana_Nota_Ponderada</th>\n",
              "      <th>Mediana_NU_NOTA_CN</th>\n",
              "      <th>Mediana_NU_NOTA_CH</th>\n",
              "      <th>Mediana_NU_NOTA_MT</th>\n",
              "      <th>Mediana_NU_NOTA_REDACAO</th>\n",
              "      <th>Mediana_NU_NOTA_LC</th>\n",
              "    </tr>\n",
              "    <tr>\n",
              "      <th>NO_MUNICIPIO_RESIDENCIA</th>\n",
              "      <th></th>\n",
              "      <th></th>\n",
              "      <th></th>\n",
              "      <th></th>\n",
              "      <th></th>\n",
              "      <th></th>\n",
              "      <th></th>\n",
              "    </tr>\n",
              "  </thead>\n",
              "  <tbody>\n",
              "    <tr>\n",
              "      <th>Mongaguá</th>\n",
              "      <td>1</td>\n",
              "      <td>7855.2</td>\n",
              "      <td>704.3</td>\n",
              "      <td>670.0</td>\n",
              "      <td>897.9</td>\n",
              "      <td>980.0</td>\n",
              "      <td>651.5</td>\n",
              "    </tr>\n",
              "    <tr>\n",
              "      <th>Corumbá</th>\n",
              "      <td>1</td>\n",
              "      <td>7811.2</td>\n",
              "      <td>631.4</td>\n",
              "      <td>726.0</td>\n",
              "      <td>846.2</td>\n",
              "      <td>960.0</td>\n",
              "      <td>637.8</td>\n",
              "    </tr>\n",
              "    <tr>\n",
              "      <th>Guararapes</th>\n",
              "      <td>1</td>\n",
              "      <td>7787.4</td>\n",
              "      <td>664.7</td>\n",
              "      <td>685.2</td>\n",
              "      <td>841.9</td>\n",
              "      <td>980.0</td>\n",
              "      <td>642.6</td>\n",
              "    </tr>\n",
              "    <tr>\n",
              "      <th>Barra da Estiva</th>\n",
              "      <td>1</td>\n",
              "      <td>7571.8</td>\n",
              "      <td>675.9</td>\n",
              "      <td>689.9</td>\n",
              "      <td>952.8</td>\n",
              "      <td>860.0</td>\n",
              "      <td>646.7</td>\n",
              "    </tr>\n",
              "    <tr>\n",
              "      <th>Valentim Gentil</th>\n",
              "      <td>1</td>\n",
              "      <td>7569.7</td>\n",
              "      <td>657.2</td>\n",
              "      <td>706.6</td>\n",
              "      <td>782.5</td>\n",
              "      <td>920.0</td>\n",
              "      <td>625.1</td>\n",
              "    </tr>\n",
              "  </tbody>\n",
              "</table>\n",
              "</div>\n",
              "      <button class=\"colab-df-convert\" onclick=\"convertToInteractive('df-c52b7ff2-2f92-4df5-b9f6-e351618674cd')\"\n",
              "              title=\"Convert this dataframe to an interactive table.\"\n",
              "              style=\"display:none;\">\n",
              "        \n",
              "  <svg xmlns=\"http://www.w3.org/2000/svg\" height=\"24px\"viewBox=\"0 0 24 24\"\n",
              "       width=\"24px\">\n",
              "    <path d=\"M0 0h24v24H0V0z\" fill=\"none\"/>\n",
              "    <path d=\"M18.56 5.44l.94 2.06.94-2.06 2.06-.94-2.06-.94-.94-2.06-.94 2.06-2.06.94zm-11 1L8.5 8.5l.94-2.06 2.06-.94-2.06-.94L8.5 2.5l-.94 2.06-2.06.94zm10 10l.94 2.06.94-2.06 2.06-.94-2.06-.94-.94-2.06-.94 2.06-2.06.94z\"/><path d=\"M17.41 7.96l-1.37-1.37c-.4-.4-.92-.59-1.43-.59-.52 0-1.04.2-1.43.59L10.3 9.45l-7.72 7.72c-.78.78-.78 2.05 0 2.83L4 21.41c.39.39.9.59 1.41.59.51 0 1.02-.2 1.41-.59l7.78-7.78 2.81-2.81c.8-.78.8-2.07 0-2.86zM5.41 20L4 18.59l7.72-7.72 1.47 1.35L5.41 20z\"/>\n",
              "  </svg>\n",
              "      </button>\n",
              "      \n",
              "  <style>\n",
              "    .colab-df-container {\n",
              "      display:flex;\n",
              "      flex-wrap:wrap;\n",
              "      gap: 12px;\n",
              "    }\n",
              "\n",
              "    .colab-df-convert {\n",
              "      background-color: #E8F0FE;\n",
              "      border: none;\n",
              "      border-radius: 50%;\n",
              "      cursor: pointer;\n",
              "      display: none;\n",
              "      fill: #1967D2;\n",
              "      height: 32px;\n",
              "      padding: 0 0 0 0;\n",
              "      width: 32px;\n",
              "    }\n",
              "\n",
              "    .colab-df-convert:hover {\n",
              "      background-color: #E2EBFA;\n",
              "      box-shadow: 0px 1px 2px rgba(60, 64, 67, 0.3), 0px 1px 3px 1px rgba(60, 64, 67, 0.15);\n",
              "      fill: #174EA6;\n",
              "    }\n",
              "\n",
              "    [theme=dark] .colab-df-convert {\n",
              "      background-color: #3B4455;\n",
              "      fill: #D2E3FC;\n",
              "    }\n",
              "\n",
              "    [theme=dark] .colab-df-convert:hover {\n",
              "      background-color: #434B5C;\n",
              "      box-shadow: 0px 1px 3px 1px rgba(0, 0, 0, 0.15);\n",
              "      filter: drop-shadow(0px 1px 2px rgba(0, 0, 0, 0.3));\n",
              "      fill: #FFFFFF;\n",
              "    }\n",
              "  </style>\n",
              "\n",
              "      <script>\n",
              "        const buttonEl =\n",
              "          document.querySelector('#df-c52b7ff2-2f92-4df5-b9f6-e351618674cd button.colab-df-convert');\n",
              "        buttonEl.style.display =\n",
              "          google.colab.kernel.accessAllowed ? 'block' : 'none';\n",
              "\n",
              "        async function convertToInteractive(key) {\n",
              "          const element = document.querySelector('#df-c52b7ff2-2f92-4df5-b9f6-e351618674cd');\n",
              "          const dataTable =\n",
              "            await google.colab.kernel.invokeFunction('convertToInteractive',\n",
              "                                                     [key], {});\n",
              "          if (!dataTable) return;\n",
              "\n",
              "          const docLinkHtml = 'Like what you see? Visit the ' +\n",
              "            '<a target=\"_blank\" href=https://colab.research.google.com/notebooks/data_table.ipynb>data table notebook</a>'\n",
              "            + ' to learn more about interactive tables.';\n",
              "          element.innerHTML = '';\n",
              "          dataTable['output_type'] = 'display_data';\n",
              "          await google.colab.output.renderOutput(dataTable, element);\n",
              "          const docLink = document.createElement('div');\n",
              "          docLink.innerHTML = docLinkHtml;\n",
              "          element.appendChild(docLink);\n",
              "        }\n",
              "      </script>\n",
              "    </div>\n",
              "  </div>\n",
              "  "
            ]
          },
          "metadata": {},
          "execution_count": 16
        }
      ]
    },
    {
      "cell_type": "code",
      "source": [
        "#Quanto aos piores candidatos, são dos municipios de Itaguatins, Altinópolis e Rincão. Os três piores tiveram suas notas prejudicadas (maiormente) pela nota da prova de redação. Diferente dos melhores candidatos, os piores apresentarão dificuldade na prova de Matemática.\n",
        "df_exploratoria_notas_municipio_ordenada_piores=df_exploratoria_notas_municipio.sort_values('Mediana_Nota_Ponderada')\n",
        "df_exploratoria_notas_municipio_ordenada_piores.head()"
      ],
      "metadata": {
        "colab": {
          "base_uri": "https://localhost:8080/",
          "height": 302
        },
        "id": "t43cchQqeQ3w",
        "outputId": "78c9ffb6-0b7c-4a66-d8d2-f9c4a61e6ffc"
      },
      "execution_count": 17,
      "outputs": [
        {
          "output_type": "execute_result",
          "data": {
            "text/plain": [
              "                         Contagem  Mediana_Nota_Ponderada  Mediana_NU_NOTA_CN  \\\n",
              "NO_MUNICIPIO_RESIDENCIA                                                         \n",
              "Itaguatins                      1                  3201.9               462.3   \n",
              "Altinópolis                     1                  3324.3               462.4   \n",
              "Rincão                          1                  3501.0               458.3   \n",
              "Paraúna                         1                  3665.6               397.1   \n",
              "Picos                           1                  3679.7               360.9   \n",
              "\n",
              "                         Mediana_NU_NOTA_CH  Mediana_NU_NOTA_MT  \\\n",
              "NO_MUNICIPIO_RESIDENCIA                                           \n",
              "Itaguatins                            446.4               371.2   \n",
              "Altinópolis                           483.3               432.4   \n",
              "Rincão                                377.1               385.2   \n",
              "Paraúna                               386.3               385.2   \n",
              "Picos                                 485.5               365.5   \n",
              "\n",
              "                         Mediana_NU_NOTA_REDACAO  Mediana_NU_NOTA_LC  \n",
              "NO_MUNICIPIO_RESIDENCIA                                               \n",
              "Itaguatins                                   0.0               514.6  \n",
              "Altinópolis                                  0.0               489.8  \n",
              "Rincão                                     260.0               373.1  \n",
              "Paraúna                                    300.0               412.2  \n",
              "Picos                                      200.0               448.4  "
            ],
            "text/html": [
              "\n",
              "  <div id=\"df-e7651915-fdec-41a0-a1a2-71bdfd11dace\">\n",
              "    <div class=\"colab-df-container\">\n",
              "      <div>\n",
              "<style scoped>\n",
              "    .dataframe tbody tr th:only-of-type {\n",
              "        vertical-align: middle;\n",
              "    }\n",
              "\n",
              "    .dataframe tbody tr th {\n",
              "        vertical-align: top;\n",
              "    }\n",
              "\n",
              "    .dataframe thead th {\n",
              "        text-align: right;\n",
              "    }\n",
              "</style>\n",
              "<table border=\"1\" class=\"dataframe\">\n",
              "  <thead>\n",
              "    <tr style=\"text-align: right;\">\n",
              "      <th></th>\n",
              "      <th>Contagem</th>\n",
              "      <th>Mediana_Nota_Ponderada</th>\n",
              "      <th>Mediana_NU_NOTA_CN</th>\n",
              "      <th>Mediana_NU_NOTA_CH</th>\n",
              "      <th>Mediana_NU_NOTA_MT</th>\n",
              "      <th>Mediana_NU_NOTA_REDACAO</th>\n",
              "      <th>Mediana_NU_NOTA_LC</th>\n",
              "    </tr>\n",
              "    <tr>\n",
              "      <th>NO_MUNICIPIO_RESIDENCIA</th>\n",
              "      <th></th>\n",
              "      <th></th>\n",
              "      <th></th>\n",
              "      <th></th>\n",
              "      <th></th>\n",
              "      <th></th>\n",
              "      <th></th>\n",
              "    </tr>\n",
              "  </thead>\n",
              "  <tbody>\n",
              "    <tr>\n",
              "      <th>Itaguatins</th>\n",
              "      <td>1</td>\n",
              "      <td>3201.9</td>\n",
              "      <td>462.3</td>\n",
              "      <td>446.4</td>\n",
              "      <td>371.2</td>\n",
              "      <td>0.0</td>\n",
              "      <td>514.6</td>\n",
              "    </tr>\n",
              "    <tr>\n",
              "      <th>Altinópolis</th>\n",
              "      <td>1</td>\n",
              "      <td>3324.3</td>\n",
              "      <td>462.4</td>\n",
              "      <td>483.3</td>\n",
              "      <td>432.4</td>\n",
              "      <td>0.0</td>\n",
              "      <td>489.8</td>\n",
              "    </tr>\n",
              "    <tr>\n",
              "      <th>Rincão</th>\n",
              "      <td>1</td>\n",
              "      <td>3501.0</td>\n",
              "      <td>458.3</td>\n",
              "      <td>377.1</td>\n",
              "      <td>385.2</td>\n",
              "      <td>260.0</td>\n",
              "      <td>373.1</td>\n",
              "    </tr>\n",
              "    <tr>\n",
              "      <th>Paraúna</th>\n",
              "      <td>1</td>\n",
              "      <td>3665.6</td>\n",
              "      <td>397.1</td>\n",
              "      <td>386.3</td>\n",
              "      <td>385.2</td>\n",
              "      <td>300.0</td>\n",
              "      <td>412.2</td>\n",
              "    </tr>\n",
              "    <tr>\n",
              "      <th>Picos</th>\n",
              "      <td>1</td>\n",
              "      <td>3679.7</td>\n",
              "      <td>360.9</td>\n",
              "      <td>485.5</td>\n",
              "      <td>365.5</td>\n",
              "      <td>200.0</td>\n",
              "      <td>448.4</td>\n",
              "    </tr>\n",
              "  </tbody>\n",
              "</table>\n",
              "</div>\n",
              "      <button class=\"colab-df-convert\" onclick=\"convertToInteractive('df-e7651915-fdec-41a0-a1a2-71bdfd11dace')\"\n",
              "              title=\"Convert this dataframe to an interactive table.\"\n",
              "              style=\"display:none;\">\n",
              "        \n",
              "  <svg xmlns=\"http://www.w3.org/2000/svg\" height=\"24px\"viewBox=\"0 0 24 24\"\n",
              "       width=\"24px\">\n",
              "    <path d=\"M0 0h24v24H0V0z\" fill=\"none\"/>\n",
              "    <path d=\"M18.56 5.44l.94 2.06.94-2.06 2.06-.94-2.06-.94-.94-2.06-.94 2.06-2.06.94zm-11 1L8.5 8.5l.94-2.06 2.06-.94-2.06-.94L8.5 2.5l-.94 2.06-2.06.94zm10 10l.94 2.06.94-2.06 2.06-.94-2.06-.94-.94-2.06-.94 2.06-2.06.94z\"/><path d=\"M17.41 7.96l-1.37-1.37c-.4-.4-.92-.59-1.43-.59-.52 0-1.04.2-1.43.59L10.3 9.45l-7.72 7.72c-.78.78-.78 2.05 0 2.83L4 21.41c.39.39.9.59 1.41.59.51 0 1.02-.2 1.41-.59l7.78-7.78 2.81-2.81c.8-.78.8-2.07 0-2.86zM5.41 20L4 18.59l7.72-7.72 1.47 1.35L5.41 20z\"/>\n",
              "  </svg>\n",
              "      </button>\n",
              "      \n",
              "  <style>\n",
              "    .colab-df-container {\n",
              "      display:flex;\n",
              "      flex-wrap:wrap;\n",
              "      gap: 12px;\n",
              "    }\n",
              "\n",
              "    .colab-df-convert {\n",
              "      background-color: #E8F0FE;\n",
              "      border: none;\n",
              "      border-radius: 50%;\n",
              "      cursor: pointer;\n",
              "      display: none;\n",
              "      fill: #1967D2;\n",
              "      height: 32px;\n",
              "      padding: 0 0 0 0;\n",
              "      width: 32px;\n",
              "    }\n",
              "\n",
              "    .colab-df-convert:hover {\n",
              "      background-color: #E2EBFA;\n",
              "      box-shadow: 0px 1px 2px rgba(60, 64, 67, 0.3), 0px 1px 3px 1px rgba(60, 64, 67, 0.15);\n",
              "      fill: #174EA6;\n",
              "    }\n",
              "\n",
              "    [theme=dark] .colab-df-convert {\n",
              "      background-color: #3B4455;\n",
              "      fill: #D2E3FC;\n",
              "    }\n",
              "\n",
              "    [theme=dark] .colab-df-convert:hover {\n",
              "      background-color: #434B5C;\n",
              "      box-shadow: 0px 1px 3px 1px rgba(0, 0, 0, 0.15);\n",
              "      filter: drop-shadow(0px 1px 2px rgba(0, 0, 0, 0.3));\n",
              "      fill: #FFFFFF;\n",
              "    }\n",
              "  </style>\n",
              "\n",
              "      <script>\n",
              "        const buttonEl =\n",
              "          document.querySelector('#df-e7651915-fdec-41a0-a1a2-71bdfd11dace button.colab-df-convert');\n",
              "        buttonEl.style.display =\n",
              "          google.colab.kernel.accessAllowed ? 'block' : 'none';\n",
              "\n",
              "        async function convertToInteractive(key) {\n",
              "          const element = document.querySelector('#df-e7651915-fdec-41a0-a1a2-71bdfd11dace');\n",
              "          const dataTable =\n",
              "            await google.colab.kernel.invokeFunction('convertToInteractive',\n",
              "                                                     [key], {});\n",
              "          if (!dataTable) return;\n",
              "\n",
              "          const docLinkHtml = 'Like what you see? Visit the ' +\n",
              "            '<a target=\"_blank\" href=https://colab.research.google.com/notebooks/data_table.ipynb>data table notebook</a>'\n",
              "            + ' to learn more about interactive tables.';\n",
              "          element.innerHTML = '';\n",
              "          dataTable['output_type'] = 'display_data';\n",
              "          await google.colab.output.renderOutput(dataTable, element);\n",
              "          const docLink = document.createElement('div');\n",
              "          docLink.innerHTML = docLinkHtml;\n",
              "          element.appendChild(docLink);\n",
              "        }\n",
              "      </script>\n",
              "    </div>\n",
              "  </div>\n",
              "  "
            ]
          },
          "metadata": {},
          "execution_count": 17
        }
      ]
    },
    {
      "cell_type": "code",
      "source": [
        "#Quanto as notas obtidas na prova de Ciências da Natureza, os alunos obtiveram, na média, 492 pontos - com desvio padrão de 77,88 pontos. A nota máxima foi de 842,80 pontos.\n",
        "df_exploratoria['NU_NOTA_CN'].describe()"
      ],
      "metadata": {
        "colab": {
          "base_uri": "https://localhost:8080/"
        },
        "id": "irzY7lLeed0-",
        "outputId": "5fea1733-aef8-42fd-ebd9-cf515e053311"
      },
      "execution_count": 18,
      "outputs": [
        {
          "output_type": "execute_result",
          "data": {
            "text/plain": [
              "count    390085.000000\n",
              "mean        492.557779\n",
              "std          77.876329\n",
              "min           0.000000\n",
              "25%         430.600000\n",
              "50%         489.500000\n",
              "75%         551.200000\n",
              "max         842.800000\n",
              "Name: NU_NOTA_CN, dtype: float64"
            ]
          },
          "metadata": {},
          "execution_count": 18
        }
      ]
    },
    {
      "cell_type": "code",
      "source": [
        "# Plotando o histograma da nota da prova de Ciências da Natureza verificamos a concentração das notas entre 370-650 pontos.\n",
        "fig, ax = plt.subplots()\n",
        "\n",
        "ax.hist(\"NU_NOTA_CN\", data=df_exploratoria)\n",
        "ax.set_title(\"Nota_CN\")\n",
        "ax.set_ylabel(\"Quantidade de ocorrências\")\n",
        "ax.set_xlabel(\"Nota Ciências da Natureza\")\n",
        "\n",
        "plt.tight_layout()"
      ],
      "metadata": {
        "colab": {
          "base_uri": "https://localhost:8080/",
          "height": 297
        },
        "id": "C0sV1sWhhIGy",
        "outputId": "0bfe3b71-6cb7-41c0-9b23-cfbefb47748e"
      },
      "execution_count": 19,
      "outputs": [
        {
          "output_type": "display_data",
          "data": {
            "text/plain": [
              "<Figure size 432x288 with 1 Axes>"
            ],
            "image/png": "[encoded data removed]"
          },
          "metadata": {
            "needs_background": "light"
          }
        }
      ]
    },
    {
      "cell_type": "code",
      "source": [
        "#Quanto as notas obtidas na prova de Ciências Humanas, os alunos obtiveram, na média, 523 pontos - com desvio padrão de 81,45 pontos. A nota máxima foi de 835,10 pontos. O comportamento da nota de Ciências Humanas foi parecido com a nota de Ciências da Natureza. Entretando, mais alunos tiveram nota acima de 650 pontos.\n",
        "df_exploratoria['NU_NOTA_CH'].describe()"
      ],
      "metadata": {
        "colab": {
          "base_uri": "https://localhost:8080/"
        },
        "id": "_HiWOiJ1hiDU",
        "outputId": "67dd19d1-4b8b-4f5a-ad93-27d0d5695c04"
      },
      "execution_count": 20,
      "outputs": [
        {
          "output_type": "execute_result",
          "data": {
            "text/plain": [
              "count    390085.000000\n",
              "mean        523.841186\n",
              "std          81.447197\n",
              "min           0.000000\n",
              "25%         466.200000\n",
              "50%         529.500000\n",
              "75%         582.300000\n",
              "max         835.100000\n",
              "Name: NU_NOTA_CH, dtype: float64"
            ]
          },
          "metadata": {},
          "execution_count": 20
        }
      ]
    },
    {
      "cell_type": "code",
      "source": [
        "#Com o gráfico é possívl verificar a distribuição das notas na prova de Ciências Humanas, que indica concentração entre 300-700 pontos.\n",
        "fig, ax = plt.subplots()\n",
        "ax.hist(\"NU_NOTA_CH\", data=df_exploratoria)\n",
        "ax.set_title(\"Nota_CH\")\n",
        "ax.set_ylabel(\"Quantidade de ocorrências\")\n",
        "ax.set_xlabel(\"Nota Ciências Humanas\")\n",
        "\n",
        "plt.tight_layout()"
      ],
      "metadata": {
        "colab": {
          "base_uri": "https://localhost:8080/",
          "height": 297
        },
        "id": "o4N2RZ6JiG7M",
        "outputId": "9d690007-85ab-4fdd-e87a-fd7e2cb7bb84"
      },
      "execution_count": 21,
      "outputs": [
        {
          "output_type": "display_data",
          "data": {
            "text/plain": [
              "<Figure size 432x288 with 1 Axes>"
            ],
            "image/png": "[encoded data removed]"
          },
          "metadata": {
            "needs_background": "light"
          }
        }
      ]
    },
    {
      "cell_type": "code",
      "source": [
        "#Quanto as notas obtidas na prova de Linguagens e Códigos, os alunos obtiveram, na média, 533 pontos - com desvio padrão de 59,49 pontos. A nota máxima foi de 770,50,80 pontos. Apesar da nota máxima conquistada nesta prova ser menor que nas anteriores, os candidatos obtiveram média geral maior em relação as provas de Ciências da Natureza e Ciências Humanas, com menor desvio-padrão - o que prova maior consistência dos candidatos na prova de linguagens e códigos.\n",
        "df_exploratoria['NU_NOTA_LC'].describe()"
      ],
      "metadata": {
        "colab": {
          "base_uri": "https://localhost:8080/"
        },
        "id": "OkRYDSLEionk",
        "outputId": "d2ed682f-fb3b-4c43-94cd-65a30447f230"
      },
      "execution_count": 22,
      "outputs": [
        {
          "output_type": "execute_result",
          "data": {
            "text/plain": [
              "count    390085.000000\n",
              "mean        533.282859\n",
              "std          59.490550\n",
              "min           0.000000\n",
              "25%         499.600000\n",
              "50%         538.200000\n",
              "75%         574.300000\n",
              "max         770.500000\n",
              "Name: NU_NOTA_LC, dtype: float64"
            ]
          },
          "metadata": {},
          "execution_count": 22
        }
      ]
    },
    {
      "cell_type": "code",
      "source": [
        "#Com o gráfico é possível verificar a distribuição das notas na prova de Linguagens e Códigos, que indica concentração entre 450-600 pontos:\n",
        "fig, ax = plt.subplots()\n",
        "ax.hist(\"NU_NOTA_LC\", data=df_exploratoria)\n",
        "ax.set_title(\"Nota_LC\")\n",
        "ax.set_ylabel(\"Quantidade de ocorrências\")\n",
        "ax.set_xlabel(\"Nota Linguagens e Códigos\")\n",
        "\n",
        "plt.tight_layout()"
      ],
      "metadata": {
        "colab": {
          "base_uri": "https://localhost:8080/",
          "height": 297
        },
        "id": "XT3jvSz0jT4i",
        "outputId": "7deb7d3e-4a6c-48db-f0e7-ca0fca9ee50c"
      },
      "execution_count": 23,
      "outputs": [
        {
          "output_type": "display_data",
          "data": {
            "text/plain": [
              "<Figure size 432x288 with 1 Axes>"
            ],
            "image/png": "[encoded data removed]"
          },
          "metadata": {
            "needs_background": "light"
          }
        }
      ]
    },
    {
      "cell_type": "code",
      "source": [
        "#Quanto as notas obtidas na prova de Matemática, os alunos obtiveram, na média, 547 pontos - com desvio padrão de 115 pontos. A nota máxima foi de 985,50 pontos. Apesar da nota máxima e média conquistada nesta prova ser maior que nas anteriores, o desvio padrão também é maior, o que indica alta dispersão das notas - o que indica menor consistência na prova de Matemática.\n",
        "df_exploratoria['NU_NOTA_MT'].describe()"
      ],
      "metadata": {
        "colab": {
          "base_uri": "https://localhost:8080/"
        },
        "id": "JvZUVoyDptHL",
        "outputId": "410ec7d8-4347-49ec-d671-a693ace696f8"
      },
      "execution_count": 24,
      "outputs": [
        {
          "output_type": "execute_result",
          "data": {
            "text/plain": [
              "count    390085.000000\n",
              "mean        547.060844\n",
              "std         115.022546\n",
              "min           0.000000\n",
              "25%         451.900000\n",
              "50%         531.600000\n",
              "75%         630.100000\n",
              "max         985.500000\n",
              "Name: NU_NOTA_MT, dtype: float64"
            ]
          },
          "metadata": {},
          "execution_count": 24
        }
      ]
    },
    {
      "cell_type": "code",
      "source": [
        "#Com o gráfico é possível verificar a distribuição das notas na prova de Matemática, o que indica a concentração entre 400-700 pontos.\n",
        "fig, ax = plt.subplots()\n",
        "ax.hist(\"NU_NOTA_MT\", data=df_exploratoria)\n",
        "ax.set_title(\"Nota_MT\")\n",
        "ax.set_ylabel(\"Quantidade de ocorrências\")\n",
        "ax.set_xlabel(\"Nota Matemática\")\n",
        "\n",
        "plt.tight_layout()"
      ],
      "metadata": {
        "colab": {
          "base_uri": "https://localhost:8080/",
          "height": 297
        },
        "id": "_X8m-oiorAt4",
        "outputId": "31359e17-23bd-4a96-ea85-226bb8fa4ef6"
      },
      "execution_count": 25,
      "outputs": [
        {
          "output_type": "display_data",
          "data": {
            "text/plain": [
              "<Figure size 432x288 with 1 Axes>"
            ],
            "image/png": "[encoded data removed]"
          },
          "metadata": {
            "needs_background": "light"
          }
        }
      ]
    },
    {
      "cell_type": "code",
      "source": [
        "# Plotando o histograma da nota ponderada geral, verificamos que a maior concentração da nota está entre 3000-7500\n",
        "fig, ax = plt.subplots()\n",
        "\n",
        "ax.hist(\"Nota_MP\", data=df_exploratoria)\n",
        "ax.set_title(\"Nota_MP\")\n",
        "ax.set_ylabel(\"Quantidade de ocorrências\")\n",
        "ax.set_xlabel(\"Nota Média Ponderada\")\n",
        "\n",
        "plt.tight_layout()"
      ],
      "metadata": {
        "colab": {
          "base_uri": "https://localhost:8080/",
          "height": 297
        },
        "id": "8TvKEHgGbv6p",
        "outputId": "516c6c17-bcd0-42e5-d6fe-396e62f7459f"
      },
      "execution_count": 26,
      "outputs": [
        {
          "output_type": "display_data",
          "data": {
            "text/plain": [
              "<Figure size 432x288 with 1 Axes>"
            ],
            "image/png": "[encoded data removed]"
          },
          "metadata": {
            "needs_background": "light"
          }
        }
      ]
    },
    {
      "cell_type": "code",
      "source": [
        "#Verificando que as notas ponderadas inferior a 3000 são consideradas outlier, excluiremos da base.\n",
        "df_exploratoria=df_exploratoria.loc[df_exploratoria[\"Nota_MP\"]>=3000]"
      ],
      "metadata": {
        "id": "ioT_XqZz4EHP"
      },
      "execution_count": 27,
      "outputs": []
    },
    {
      "cell_type": "code",
      "source": [
        "#Após a limpeza, verificamos que a distribuição das notas ponderadas ficou mais próxima de uma distribuição normal.\n",
        "fig, ax = plt.subplots()\n",
        "\n",
        "ax.hist(\"Nota_MP\", data=df_exploratoria)\n",
        "ax.set_title(\"Nota_MP\")\n",
        "ax.set_ylabel(\"Quantidade de ocorrências\")\n",
        "ax.set_xlabel(\"Nota Média Ponderada\")\n",
        "\n",
        "plt.tight_layout()"
      ],
      "metadata": {
        "colab": {
          "base_uri": "https://localhost:8080/",
          "height": 297
        },
        "id": "3GV9PlfN44kI",
        "outputId": "7164ebe1-2050-469c-ee29-e294967df684"
      },
      "execution_count": 28,
      "outputs": [
        {
          "output_type": "display_data",
          "data": {
            "text/plain": [
              "<Figure size 432x288 with 1 Axes>"
            ],
            "image/png": "[encoded data removed]"
          },
          "metadata": {
            "needs_background": "light"
          }
        }
      ]
    },
    {
      "cell_type": "code",
      "source": [
        "#Como o objetivo é executar uma regressão, faremos uma nova limpeza de outlier, dessa vez com os casos >=7800\n",
        "df_exploratoria=df_exploratoria.loc[df_exploratoria[\"Nota_MP\"]<7800]\n"
      ],
      "metadata": {
        "id": "eb1vvC0T5Iu4"
      },
      "execution_count": 29,
      "outputs": []
    },
    {
      "cell_type": "code",
      "source": [
        "#Após a limpeza, verificamos que a distribuição das notas ponderadas ficou mais próxima de uma distribuição normal.\n",
        "fig, ax = plt.subplots()\n",
        "\n",
        "ax.hist(\"Nota_MP\", data=df_exploratoria)\n",
        "ax.set_title(\"Nota_MP\")\n",
        "ax.set_ylabel(\"Quantidade de ocorrências\")\n",
        "ax.set_xlabel(\"Nota Média Ponderada\")\n",
        "\n",
        "plt.tight_layout()"
      ],
      "metadata": {
        "colab": {
          "base_uri": "https://localhost:8080/",
          "height": 297
        },
        "id": "FfI5uBWA5pbY",
        "outputId": "02fd61cb-382d-4f67-e4b0-7e2f4d0548cf"
      },
      "execution_count": 30,
      "outputs": [
        {
          "output_type": "display_data",
          "data": {
            "text/plain": [
              "<Figure size 432x288 with 1 Axes>"
            ],
            "image/png": "[encoded data removed]"
          },
          "metadata": {
            "needs_background": "light"
          }
        }
      ]
    },
    {
      "cell_type": "code",
      "source": [
        "#Com a limpeza, houve perda de 1% dos dados (após filtros já executados)\n",
        "df_exploratoria.shape"
      ],
      "metadata": {
        "colab": {
          "base_uri": "https://localhost:8080/"
        },
        "id": "KBV9Z5Ic5vI6",
        "outputId": "e08740f9-9edd-423a-c8bc-f5530c9a108e"
      },
      "execution_count": 31,
      "outputs": [
        {
          "output_type": "execute_result",
          "data": {
            "text/plain": [
              "(386004, 14)"
            ]
          },
          "metadata": {},
          "execution_count": 31
        }
      ]
    },
    {
      "cell_type": "code",
      "source": [
        "#A partir das análises até agora realizadas, montaremos a base de dados com as features necessárias para a elaboração do modelo de regressão:\n",
        "df_modelagem=pd.DataFrame(df_exploratoria,columns=[\"NU_NOTA_CN\",\"NU_NOTA_CH\",\"NU_NOTA_MT\",\"NU_NOTA_REDACAO\",\"NU_NOTA_LC\",\"Nota_MP\"])\n"
      ],
      "metadata": {
        "id": "tUvKcQWh6wqZ"
      },
      "execution_count": 32,
      "outputs": []
    },
    {
      "cell_type": "code",
      "source": [
        "#A partir de então, verificaremos as correlações entre as variáveis:\n",
        "df_corr_modelagem=df_modelagem.corr()\n",
        "df_corr_modelagem"
      ],
      "metadata": {
        "colab": {
          "base_uri": "https://localhost:8080/",
          "height": 238
        },
        "id": "UUo6e4qB7SIo",
        "outputId": "87542bdf-ebb3-4d46-b6de-558996d6dcda"
      },
      "execution_count": 33,
      "outputs": [
        {
          "output_type": "execute_result",
          "data": {
            "text/plain": [
              "                 NU_NOTA_CN  NU_NOTA_CH  NU_NOTA_MT  NU_NOTA_REDACAO  \\\n",
              "NU_NOTA_CN         1.000000    0.690655    0.663093         0.541775   \n",
              "NU_NOTA_CH         0.690655    1.000000    0.631844         0.552664   \n",
              "NU_NOTA_MT         0.663093    0.631844    1.000000         0.544086   \n",
              "NU_NOTA_REDACAO    0.541775    0.552664    0.544086         1.000000   \n",
              "NU_NOTA_LC         0.653623    0.745535    0.601697         0.540531   \n",
              "Nota_MP            0.747257    0.816184    0.740236         0.912211   \n",
              "\n",
              "                 NU_NOTA_LC   Nota_MP  \n",
              "NU_NOTA_CN         0.653623  0.747257  \n",
              "NU_NOTA_CH         0.745535  0.816184  \n",
              "NU_NOTA_MT         0.601697  0.740236  \n",
              "NU_NOTA_REDACAO    0.540531  0.912211  \n",
              "NU_NOTA_LC         1.000000  0.767854  \n",
              "Nota_MP            0.767854  1.000000  "
            ],
            "text/html": [
              "\n",
              "  <div id=\"df-db06e81a-579b-4a37-9cd2-443596e0914f\">\n",
              "    <div class=\"colab-df-container\">\n",
              "      <div>\n",
              "<style scoped>\n",
              "    .dataframe tbody tr th:only-of-type {\n",
              "        vertical-align: middle;\n",
              "    }\n",
              "\n",
              "    .dataframe tbody tr th {\n",
              "        vertical-align: top;\n",
              "    }\n",
              "\n",
              "    .dataframe thead th {\n",
              "        text-align: right;\n",
              "    }\n",
              "</style>\n",
              "<table border=\"1\" class=\"dataframe\">\n",
              "  <thead>\n",
              "    <tr style=\"text-align: right;\">\n",
              "      <th></th>\n",
              "      <th>NU_NOTA_CN</th>\n",
              "      <th>NU_NOTA_CH</th>\n",
              "      <th>NU_NOTA_MT</th>\n",
              "      <th>NU_NOTA_REDACAO</th>\n",
              "      <th>NU_NOTA_LC</th>\n",
              "      <th>Nota_MP</th>\n",
              "    </tr>\n",
              "  </thead>\n",
              "  <tbody>\n",
              "    <tr>\n",
              "      <th>NU_NOTA_CN</th>\n",
              "      <td>1.000000</td>\n",
              "      <td>0.690655</td>\n",
              "      <td>0.663093</td>\n",
              "      <td>0.541775</td>\n",
              "      <td>0.653623</td>\n",
              "      <td>0.747257</td>\n",
              "    </tr>\n",
              "    <tr>\n",
              "      <th>NU_NOTA_CH</th>\n",
              "      <td>0.690655</td>\n",
              "      <td>1.000000</td>\n",
              "      <td>0.631844</td>\n",
              "      <td>0.552664</td>\n",
              "      <td>0.745535</td>\n",
              "      <td>0.816184</td>\n",
              "    </tr>\n",
              "    <tr>\n",
              "      <th>NU_NOTA_MT</th>\n",
              "      <td>0.663093</td>\n",
              "      <td>0.631844</td>\n",
              "      <td>1.000000</td>\n",
              "      <td>0.544086</td>\n",
              "      <td>0.601697</td>\n",
              "      <td>0.740236</td>\n",
              "    </tr>\n",
              "    <tr>\n",
              "      <th>NU_NOTA_REDACAO</th>\n",
              "      <td>0.541775</td>\n",
              "      <td>0.552664</td>\n",
              "      <td>0.544086</td>\n",
              "      <td>1.000000</td>\n",
              "      <td>0.540531</td>\n",
              "      <td>0.912211</td>\n",
              "    </tr>\n",
              "    <tr>\n",
              "      <th>NU_NOTA_LC</th>\n",
              "      <td>0.653623</td>\n",
              "      <td>0.745535</td>\n",
              "      <td>0.601697</td>\n",
              "      <td>0.540531</td>\n",
              "      <td>1.000000</td>\n",
              "      <td>0.767854</td>\n",
              "    </tr>\n",
              "    <tr>\n",
              "      <th>Nota_MP</th>\n",
              "      <td>0.747257</td>\n",
              "      <td>0.816184</td>\n",
              "      <td>0.740236</td>\n",
              "      <td>0.912211</td>\n",
              "      <td>0.767854</td>\n",
              "      <td>1.000000</td>\n",
              "    </tr>\n",
              "  </tbody>\n",
              "</table>\n",
              "</div>\n",
              "      <button class=\"colab-df-convert\" onclick=\"convertToInteractive('df-db06e81a-579b-4a37-9cd2-443596e0914f')\"\n",
              "              title=\"Convert this dataframe to an interactive table.\"\n",
              "              style=\"display:none;\">\n",
              "        \n",
              "  <svg xmlns=\"http://www.w3.org/2000/svg\" height=\"24px\"viewBox=\"0 0 24 24\"\n",
              "       width=\"24px\">\n",
              "    <path d=\"M0 0h24v24H0V0z\" fill=\"none\"/>\n",
              "    <path d=\"M18.56 5.44l.94 2.06.94-2.06 2.06-.94-2.06-.94-.94-2.06-.94 2.06-2.06.94zm-11 1L8.5 8.5l.94-2.06 2.06-.94-2.06-.94L8.5 2.5l-.94 2.06-2.06.94zm10 10l.94 2.06.94-2.06 2.06-.94-2.06-.94-.94-2.06-.94 2.06-2.06.94z\"/><path d=\"M17.41 7.96l-1.37-1.37c-.4-.4-.92-.59-1.43-.59-.52 0-1.04.2-1.43.59L10.3 9.45l-7.72 7.72c-.78.78-.78 2.05 0 2.83L4 21.41c.39.39.9.59 1.41.59.51 0 1.02-.2 1.41-.59l7.78-7.78 2.81-2.81c.8-.78.8-2.07 0-2.86zM5.41 20L4 18.59l7.72-7.72 1.47 1.35L5.41 20z\"/>\n",
              "  </svg>\n",
              "      </button>\n",
              "      \n",
              "  <style>\n",
              "    .colab-df-container {\n",
              "      display:flex;\n",
              "      flex-wrap:wrap;\n",
              "      gap: 12px;\n",
              "    }\n",
              "\n",
              "    .colab-df-convert {\n",
              "      background-color: #E8F0FE;\n",
              "      border: none;\n",
              "      border-radius: 50%;\n",
              "      cursor: pointer;\n",
              "      display: none;\n",
              "      fill: #1967D2;\n",
              "      height: 32px;\n",
              "      padding: 0 0 0 0;\n",
              "      width: 32px;\n",
              "    }\n",
              "\n",
              "    .colab-df-convert:hover {\n",
              "      background-color: #E2EBFA;\n",
              "      box-shadow: 0px 1px 2px rgba(60, 64, 67, 0.3), 0px 1px 3px 1px rgba(60, 64, 67, 0.15);\n",
              "      fill: #174EA6;\n",
              "    }\n",
              "\n",
              "    [theme=dark] .colab-df-convert {\n",
              "      background-color: #3B4455;\n",
              "      fill: #D2E3FC;\n",
              "    }\n",
              "\n",
              "    [theme=dark] .colab-df-convert:hover {\n",
              "      background-color: #434B5C;\n",
              "      box-shadow: 0px 1px 3px 1px rgba(0, 0, 0, 0.15);\n",
              "      filter: drop-shadow(0px 1px 2px rgba(0, 0, 0, 0.3));\n",
              "      fill: #FFFFFF;\n",
              "    }\n",
              "  </style>\n",
              "\n",
              "      <script>\n",
              "        const buttonEl =\n",
              "          document.querySelector('#df-db06e81a-579b-4a37-9cd2-443596e0914f button.colab-df-convert');\n",
              "        buttonEl.style.display =\n",
              "          google.colab.kernel.accessAllowed ? 'block' : 'none';\n",
              "\n",
              "        async function convertToInteractive(key) {\n",
              "          const element = document.querySelector('#df-db06e81a-579b-4a37-9cd2-443596e0914f');\n",
              "          const dataTable =\n",
              "            await google.colab.kernel.invokeFunction('convertToInteractive',\n",
              "                                                     [key], {});\n",
              "          if (!dataTable) return;\n",
              "\n",
              "          const docLinkHtml = 'Like what you see? Visit the ' +\n",
              "            '<a target=\"_blank\" href=https://colab.research.google.com/notebooks/data_table.ipynb>data table notebook</a>'\n",
              "            + ' to learn more about interactive tables.';\n",
              "          element.innerHTML = '';\n",
              "          dataTable['output_type'] = 'display_data';\n",
              "          await google.colab.output.renderOutput(dataTable, element);\n",
              "          const docLink = document.createElement('div');\n",
              "          docLink.innerHTML = docLinkHtml;\n",
              "          element.appendChild(docLink);\n",
              "        }\n",
              "      </script>\n",
              "    </div>\n",
              "  </div>\n",
              "  "
            ]
          },
          "metadata": {},
          "execution_count": 33
        }
      ]
    },
    {
      "cell_type": "code",
      "source": [
        "# A partir da análise das correlações entre as variáveis, verificamos que a nota final ponderada tem maior correlação com a nota da redação (0,91) e nota de ciências humanas (0,81), embora todas as correlações superaram 0,74 - o que indica forte correlação entre as variáveis. A nota menos correlacionada com a nota geral é a prova de matemática (0,74). A menor correlação deve-se ao fato da maior dispersão entre as notas de matemática em relação as notas ponderadas.\n",
        "# A partir da análise de correlação de pearson indicar maior correlação entre as notas ponderadas e redação, faremos uma análise exploratória das notas de redação antes de encaminharmos para a elaboração do modelo de regressão.\n",
        "import seaborn as sns\n",
        "fig, ax=plt.subplots(figsize=(10,6))\n",
        "\n",
        "sns.heatmap(df_corr_modelagem,fmt='.3f',square=True,linecolor='white',vmax=1.0,annot=True);\n",
        "plt.tight_layout()"
      ],
      "metadata": {
        "colab": {
          "base_uri": "https://localhost:8080/",
          "height": 441
        },
        "id": "LaqjjqRr7M0l",
        "outputId": "8056a156-f14d-4067-de97-782870685982"
      },
      "execution_count": 34,
      "outputs": [
        {
          "output_type": "display_data",
          "data": {
            "text/plain": [
              "<Figure size 720x432 with 2 Axes>"
            ],
            "image/png": "[encoded data removed]"
          },
          "metadata": {
            "needs_background": "light"
          }
        }
      ]
    },
    {
      "cell_type": "code",
      "source": [
        "#Construiremos uma base de dados específica com os  componentes necessários para cálculo da nota global de redação.\n",
        "df_redacao=pd.DataFrame(df_exploratoria,columns=[\"NU_NOTA_REDACAO\",\"NU_NOTA_COMP1\",\"NU_NOTA_COMP2\",\"NU_NOTA_COMP3\",\"NU_NOTA_COMP4\",\"NU_NOTA_COMP5\"])"
      ],
      "metadata": {
        "id": "W7NpolivrfVV"
      },
      "execution_count": 35,
      "outputs": []
    },
    {
      "cell_type": "code",
      "source": [
        "df_corr_redacao=df_redacao.corr()\n",
        "df_corr_redacao"
      ],
      "metadata": {
        "colab": {
          "base_uri": "https://localhost:8080/",
          "height": 238
        },
        "id": "dLEyCKwptm7c",
        "outputId": "e77bf8dd-5e16-4451-e140-8a25a4fe6fd1"
      },
      "execution_count": 36,
      "outputs": [
        {
          "output_type": "execute_result",
          "data": {
            "text/plain": [
              "                 NU_NOTA_REDACAO  NU_NOTA_COMP1  NU_NOTA_COMP2  NU_NOTA_COMP3  \\\n",
              "NU_NOTA_REDACAO         1.000000       0.823302       0.883563       0.928772   \n",
              "NU_NOTA_COMP1           0.823302       1.000000       0.654795       0.748443   \n",
              "NU_NOTA_COMP2           0.883563       0.654795       1.000000       0.847116   \n",
              "NU_NOTA_COMP3           0.928772       0.748443       0.847116       1.000000   \n",
              "NU_NOTA_COMP4           0.881269       0.785788       0.712989       0.791677   \n",
              "NU_NOTA_COMP5           0.871011       0.586844       0.675252       0.726169   \n",
              "\n",
              "                 NU_NOTA_COMP4  NU_NOTA_COMP5  \n",
              "NU_NOTA_REDACAO       0.881269       0.871011  \n",
              "NU_NOTA_COMP1         0.785788       0.586844  \n",
              "NU_NOTA_COMP2         0.712989       0.675252  \n",
              "NU_NOTA_COMP3         0.791677       0.726169  \n",
              "NU_NOTA_COMP4         1.000000       0.667204  \n",
              "NU_NOTA_COMP5         0.667204       1.000000  "
            ],
            "text/html": [
              "\n",
              "  <div id=\"df-c1c67db3-d038-482a-a894-8df7a7091ff5\">\n",
              "    <div class=\"colab-df-container\">\n",
              "      <div>\n",
              "<style scoped>\n",
              "    .dataframe tbody tr th:only-of-type {\n",
              "        vertical-align: middle;\n",
              "    }\n",
              "\n",
              "    .dataframe tbody tr th {\n",
              "        vertical-align: top;\n",
              "    }\n",
              "\n",
              "    .dataframe thead th {\n",
              "        text-align: right;\n",
              "    }\n",
              "</style>\n",
              "<table border=\"1\" class=\"dataframe\">\n",
              "  <thead>\n",
              "    <tr style=\"text-align: right;\">\n",
              "      <th></th>\n",
              "      <th>NU_NOTA_REDACAO</th>\n",
              "      <th>NU_NOTA_COMP1</th>\n",
              "      <th>NU_NOTA_COMP2</th>\n",
              "      <th>NU_NOTA_COMP3</th>\n",
              "      <th>NU_NOTA_COMP4</th>\n",
              "      <th>NU_NOTA_COMP5</th>\n",
              "    </tr>\n",
              "  </thead>\n",
              "  <tbody>\n",
              "    <tr>\n",
              "      <th>NU_NOTA_REDACAO</th>\n",
              "      <td>1.000000</td>\n",
              "      <td>0.823302</td>\n",
              "      <td>0.883563</td>\n",
              "      <td>0.928772</td>\n",
              "      <td>0.881269</td>\n",
              "      <td>0.871011</td>\n",
              "    </tr>\n",
              "    <tr>\n",
              "      <th>NU_NOTA_COMP1</th>\n",
              "      <td>0.823302</td>\n",
              "      <td>1.000000</td>\n",
              "      <td>0.654795</td>\n",
              "      <td>0.748443</td>\n",
              "      <td>0.785788</td>\n",
              "      <td>0.586844</td>\n",
              "    </tr>\n",
              "    <tr>\n",
              "      <th>NU_NOTA_COMP2</th>\n",
              "      <td>0.883563</td>\n",
              "      <td>0.654795</td>\n",
              "      <td>1.000000</td>\n",
              "      <td>0.847116</td>\n",
              "      <td>0.712989</td>\n",
              "      <td>0.675252</td>\n",
              "    </tr>\n",
              "    <tr>\n",
              "      <th>NU_NOTA_COMP3</th>\n",
              "      <td>0.928772</td>\n",
              "      <td>0.748443</td>\n",
              "      <td>0.847116</td>\n",
              "      <td>1.000000</td>\n",
              "      <td>0.791677</td>\n",
              "      <td>0.726169</td>\n",
              "    </tr>\n",
              "    <tr>\n",
              "      <th>NU_NOTA_COMP4</th>\n",
              "      <td>0.881269</td>\n",
              "      <td>0.785788</td>\n",
              "      <td>0.712989</td>\n",
              "      <td>0.791677</td>\n",
              "      <td>1.000000</td>\n",
              "      <td>0.667204</td>\n",
              "    </tr>\n",
              "    <tr>\n",
              "      <th>NU_NOTA_COMP5</th>\n",
              "      <td>0.871011</td>\n",
              "      <td>0.586844</td>\n",
              "      <td>0.675252</td>\n",
              "      <td>0.726169</td>\n",
              "      <td>0.667204</td>\n",
              "      <td>1.000000</td>\n",
              "    </tr>\n",
              "  </tbody>\n",
              "</table>\n",
              "</div>\n",
              "      <button class=\"colab-df-convert\" onclick=\"convertToInteractive('df-c1c67db3-d038-482a-a894-8df7a7091ff5')\"\n",
              "              title=\"Convert this dataframe to an interactive table.\"\n",
              "              style=\"display:none;\">\n",
              "        \n",
              "  <svg xmlns=\"http://www.w3.org/2000/svg\" height=\"24px\"viewBox=\"0 0 24 24\"\n",
              "       width=\"24px\">\n",
              "    <path d=\"M0 0h24v24H0V0z\" fill=\"none\"/>\n",
              "    <path d=\"M18.56 5.44l.94 2.06.94-2.06 2.06-.94-2.06-.94-.94-2.06-.94 2.06-2.06.94zm-11 1L8.5 8.5l.94-2.06 2.06-.94-2.06-.94L8.5 2.5l-.94 2.06-2.06.94zm10 10l.94 2.06.94-2.06 2.06-.94-2.06-.94-.94-2.06-.94 2.06-2.06.94z\"/><path d=\"M17.41 7.96l-1.37-1.37c-.4-.4-.92-.59-1.43-.59-.52 0-1.04.2-1.43.59L10.3 9.45l-7.72 7.72c-.78.78-.78 2.05 0 2.83L4 21.41c.39.39.9.59 1.41.59.51 0 1.02-.2 1.41-.59l7.78-7.78 2.81-2.81c.8-.78.8-2.07 0-2.86zM5.41 20L4 18.59l7.72-7.72 1.47 1.35L5.41 20z\"/>\n",
              "  </svg>\n",
              "      </button>\n",
              "      \n",
              "  <style>\n",
              "    .colab-df-container {\n",
              "      display:flex;\n",
              "      flex-wrap:wrap;\n",
              "      gap: 12px;\n",
              "    }\n",
              "\n",
              "    .colab-df-convert {\n",
              "      background-color: #E8F0FE;\n",
              "      border: none;\n",
              "      border-radius: 50%;\n",
              "      cursor: pointer;\n",
              "      display: none;\n",
              "      fill: #1967D2;\n",
              "      height: 32px;\n",
              "      padding: 0 0 0 0;\n",
              "      width: 32px;\n",
              "    }\n",
              "\n",
              "    .colab-df-convert:hover {\n",
              "      background-color: #E2EBFA;\n",
              "      box-shadow: 0px 1px 2px rgba(60, 64, 67, 0.3), 0px 1px 3px 1px rgba(60, 64, 67, 0.15);\n",
              "      fill: #174EA6;\n",
              "    }\n",
              "\n",
              "    [theme=dark] .colab-df-convert {\n",
              "      background-color: #3B4455;\n",
              "      fill: #D2E3FC;\n",
              "    }\n",
              "\n",
              "    [theme=dark] .colab-df-convert:hover {\n",
              "      background-color: #434B5C;\n",
              "      box-shadow: 0px 1px 3px 1px rgba(0, 0, 0, 0.15);\n",
              "      filter: drop-shadow(0px 1px 2px rgba(0, 0, 0, 0.3));\n",
              "      fill: #FFFFFF;\n",
              "    }\n",
              "  </style>\n",
              "\n",
              "      <script>\n",
              "        const buttonEl =\n",
              "          document.querySelector('#df-c1c67db3-d038-482a-a894-8df7a7091ff5 button.colab-df-convert');\n",
              "        buttonEl.style.display =\n",
              "          google.colab.kernel.accessAllowed ? 'block' : 'none';\n",
              "\n",
              "        async function convertToInteractive(key) {\n",
              "          const element = document.querySelector('#df-c1c67db3-d038-482a-a894-8df7a7091ff5');\n",
              "          const dataTable =\n",
              "            await google.colab.kernel.invokeFunction('convertToInteractive',\n",
              "                                                     [key], {});\n",
              "          if (!dataTable) return;\n",
              "\n",
              "          const docLinkHtml = 'Like what you see? Visit the ' +\n",
              "            '<a target=\"_blank\" href=https://colab.research.google.com/notebooks/data_table.ipynb>data table notebook</a>'\n",
              "            + ' to learn more about interactive tables.';\n",
              "          element.innerHTML = '';\n",
              "          dataTable['output_type'] = 'display_data';\n",
              "          await google.colab.output.renderOutput(dataTable, element);\n",
              "          const docLink = document.createElement('div');\n",
              "          docLink.innerHTML = docLinkHtml;\n",
              "          element.appendChild(docLink);\n",
              "        }\n",
              "      </script>\n",
              "    </div>\n",
              "  </div>\n",
              "  "
            ]
          },
          "metadata": {},
          "execution_count": 36
        }
      ]
    },
    {
      "cell_type": "code",
      "source": [
        "import seaborn as sns\n",
        "fig, ax=plt.subplots(figsize=(10,6))\n",
        "\n",
        "sns.heatmap(df_corr_redacao,fmt='.3f',square=True,linecolor='white',vmax=1.0,annot=True);\n",
        "plt.tight_layout()\n",
        "\n",
        "# A partir do gráfico de correlação, verificamos que a nota da redação tem correlação forte com todas as competências, mas as maiores correlações é com a competência 3 (0,93) - Selecionar, relacionar, organizar e interpretar informações, fatos, opiniões e argumentos em defesa de um ponto de vista - e competência 2 (0,88) - Compreender a proposta de redação e aplicar conceitos das várias áreas de conhecimento para desenvolver o tema, dentro dos limites estruturais do texto dissertativo-argumentativo em prosa.\n",
        "# A competência 1 possui menor correlação entre as competências (mas mesmo assim é alta), o que sugere que mostrar domínio da língua portuguesa está menos correlacionada com a nota final da redação. Em outras palavras, para ter a nota superior, os candidatos precisam ter maior destaque nas competências 3 e 2."
      ],
      "metadata": {
        "colab": {
          "base_uri": "https://localhost:8080/",
          "height": 441
        },
        "id": "uOria5d_uPzJ",
        "outputId": "61c06467-dd2f-4cf1-f2fb-00a505ec9c07"
      },
      "execution_count": 37,
      "outputs": [
        {
          "output_type": "display_data",
          "data": {
            "text/plain": [
              "<Figure size 720x432 with 2 Axes>"
            ],
            "image/png": "[encoded data removed]"
          },
          "metadata": {
            "needs_background": "light"
          }
        }
      ]
    },
    {
      "cell_type": "code",
      "source": [
        "# importar bibliotecas para regressão\n",
        "from sklearn.model_selection import train_test_split\n",
        "from sklearn.metrics import r2_score\n",
        "from sklearn.metrics import mean_absolute_error\n",
        "from sklearn.metrics import mean_squared_error"
      ],
      "metadata": {
        "id": "DPs6dyFlwZMD"
      },
      "execution_count": 38,
      "outputs": []
    },
    {
      "cell_type": "code",
      "source": [
        "df_modelagem.dtypes"
      ],
      "metadata": {
        "colab": {
          "base_uri": "https://localhost:8080/"
        },
        "id": "S0PNBxsF9QJ9",
        "outputId": "3c041851-6296-40c9-84f4-8b8afff87023"
      },
      "execution_count": 39,
      "outputs": [
        {
          "output_type": "execute_result",
          "data": {
            "text/plain": [
              "NU_NOTA_CN         float64\n",
              "NU_NOTA_CH         float64\n",
              "NU_NOTA_MT         float64\n",
              "NU_NOTA_REDACAO    float64\n",
              "NU_NOTA_LC         float64\n",
              "Nota_MP            float64\n",
              "dtype: object"
            ]
          },
          "metadata": {},
          "execution_count": 39
        }
      ]
    },
    {
      "cell_type": "code",
      "source": [
        "#Elaboração do modelo de regressão linear da Nota Média Ponderada\n",
        "# 1. escolher e importar um modelo\n",
        "from sklearn.linear_model import LinearRegression\n",
        "\n",
        "# 2. Instanciar e escolher os hyperparameters\n",
        "model = LinearRegression()\n",
        "\n",
        "# 3. Separar os dados entre feature matrix e target vector\n",
        "X = df_modelagem.drop('Nota_MP',axis=1)\n",
        "y = df_modelagem['Nota_MP']\n",
        "\n",
        "# 3.1 Dividir o dataset entre treino e teste\n",
        "X_train, X_test, y_train, y_test = train_test_split(X, y)\n",
        "\n",
        "# 4. Fit do modelo (treinar)\n",
        "model.fit(X_train, y_train)\n",
        "\n",
        "# 5. Fazer previsões em cima de novos dados\n",
        "y_pred = model.predict(X_test)"
      ],
      "metadata": {
        "id": "X6mzI0j-9A3t"
      },
      "execution_count": 40,
      "outputs": []
    },
    {
      "cell_type": "code",
      "source": [
        "# Imprimindo os coeficientes, é possível perceber que o coeficiente de cada variável é exatamente o peso atribuído a cada uma das variáveis.\n",
        "print(\"Coeficiente:\\t\", model.coef_)\n",
        "print(\"Intercepto:\\t\", model.intercept_)"
      ],
      "metadata": {
        "colab": {
          "base_uri": "https://localhost:8080/"
        },
        "id": "nv9fcwm_-ZRf",
        "outputId": "ec355838-8cda-412c-b0f0-7b82ef33c232"
      },
      "execution_count": 41,
      "outputs": [
        {
          "output_type": "stream",
          "name": "stdout",
          "text": [
            "Coeficiente:\t [1. 3. 1. 3. 2.]\n",
            "Intercepto:\t 9.094947017729282e-13\n"
          ]
        }
      ]
    },
    {
      "cell_type": "code",
      "source": [
        "# Verificando o desempenho do modelo, é possível concluir que 100% das variações da nota ponderada pode ser explicada pelas variáveis independentes selecionadas (provas) - os coeficientes de erro são praticamente zero.\n",
        "print(\"R2 Score:\\t\", r2_score(y_test, y_pred))\n",
        "print(\"MAE:\\t\\t\", mean_absolute_error(y_test, y_pred))\n",
        "print(\"MSE:\\t\\t\", mean_squared_error(y_test, y_pred))"
      ],
      "metadata": {
        "colab": {
          "base_uri": "https://localhost:8080/"
        },
        "id": "FZBrTxK--oWe",
        "outputId": "fd0e972a-5f55-47b9-94be-31ee8d1e6a13"
      },
      "execution_count": 42,
      "outputs": [
        {
          "output_type": "stream",
          "name": "stdout",
          "text": [
            "R2 Score:\t 1.0\n",
            "MAE:\t\t 7.830291246727942e-13\n",
            "MSE:\t\t 1.0193095339623052e-24\n"
          ]
        }
      ]
    },
    {
      "cell_type": "code",
      "source": [
        "df_redacao.dtypes"
      ],
      "metadata": {
        "colab": {
          "base_uri": "https://localhost:8080/"
        },
        "id": "kCBCBJAWAmau",
        "outputId": "33335452-3342-4489-f9e3-778ab38c396c"
      },
      "execution_count": 43,
      "outputs": [
        {
          "output_type": "execute_result",
          "data": {
            "text/plain": [
              "NU_NOTA_REDACAO    float64\n",
              "NU_NOTA_COMP1      float64\n",
              "NU_NOTA_COMP2      float64\n",
              "NU_NOTA_COMP3      float64\n",
              "NU_NOTA_COMP4      float64\n",
              "NU_NOTA_COMP5      float64\n",
              "dtype: object"
            ]
          },
          "metadata": {},
          "execution_count": 43
        }
      ]
    },
    {
      "cell_type": "code",
      "source": [
        "#A fim de construir um modelo em que não houve feature engeneering, estimaremos um modelo de regressão linear considerando as notas de cada competência da redação.\n",
        "#Entretanto, a partir das análises de correlação, elaboraremos a regressão considerando apenas as notas das competências 3 e 2.\n",
        "#Sendo:\n",
        "df_redacao_filtrada=pd.DataFrame(df_redacao,columns=[\"NU_NOTA_REDACAO\",\"NU_NOTA_COMP2\",\"NU_NOTA_COMP3\"])\n"
      ],
      "metadata": {
        "id": "QOkT8AbdAOQk"
      },
      "execution_count": 44,
      "outputs": []
    },
    {
      "cell_type": "code",
      "source": [
        "#Elaboração do modelo de regressão linear da Nota de Redação\n",
        "# 1. escolher e importar um modelo\n",
        "from sklearn.linear_model import LinearRegression\n",
        "\n",
        "# 2. Instanciar e escolher os hyperparameters\n",
        "model2 = LinearRegression()\n",
        "\n",
        "# 3. Separar os dados entre feature matrix e target vector\n",
        "X2 = df_redacao_filtrada.drop('NU_NOTA_REDACAO',axis=1)\n",
        "y2 = df_redacao_filtrada['NU_NOTA_REDACAO']\n",
        "\n",
        "# 3.1 Dividir o dataset entre treino e teste\n",
        "X2_train, X2_test, y2_train, y2_test = train_test_split(X2, y2)\n",
        "\n",
        "# 4. Fit do modelo (treinar)\n",
        "model2.fit(X2_train, y2_train)\n",
        "\n",
        "# 5. Fazer previsões em cima dos dados de teste\n",
        "y2_pred = model2.predict(X2_test)\n"
      ],
      "metadata": {
        "id": "-0tRolqbCd_x"
      },
      "execution_count": 45,
      "outputs": []
    },
    {
      "cell_type": "code",
      "source": [
        "# Verificando o desempenho do modelo, é possível concluir que 90% das variações da nota de redação pode ser explicada pela competência 2 e 3 com erro absoluto de 45,81. Em termos práticos, é possível prever o resultado da redação a partir das competências mencionadas, com um erro absoluto de 46 pontos.\n",
        "print(\"R2 Score:\\t\", r2_score(y2_test, y2_pred))\n",
        "print(\"MAE:\\t\\t\", mean_absolute_error(y2_test, y2_pred))\n",
        "print(\"MSE:\\t\\t\", mean_squared_error(y2_test, y2_pred))"
      ],
      "metadata": {
        "colab": {
          "base_uri": "https://localhost:8080/"
        },
        "id": "InAl7J3KBO9d",
        "outputId": "b5289e9b-4dad-4fcc-e504-c16d422ae400"
      },
      "execution_count": 46,
      "outputs": [
        {
          "output_type": "stream",
          "name": "stdout",
          "text": [
            "R2 Score:\t 0.8960379578756911\n",
            "MAE:\t\t 45.83029750533448\n",
            "MSE:\t\t 3333.9382496236954\n"
          ]
        }
      ]
    },
    {
      "cell_type": "code",
      "source": [
        "#Utilizando a mesma lógica da análise de correlação para preparar o modelo de regressão, estimaremos a regressão linar para a nota média ponderada considerando apenas as notas de Redação e de Ciências Humanas. \n",
        "df_modelagem_filtrada_NMP=pd.DataFrame(df_modelagem,columns=[\"NU_NOTA_CH\",\"NU_NOTA_REDACAO\",\"Nota_MP\"])"
      ],
      "metadata": {
        "id": "RHk4CMiPElj9"
      },
      "execution_count": 47,
      "outputs": []
    },
    {
      "cell_type": "code",
      "source": [
        "#Elaboração do modelo de regressão linear da Nota Ponderada a partir das notas de Redação e Ciências Humanas\n",
        "# 1. escolher e importar um modelo\n",
        "from sklearn.linear_model import LinearRegression\n",
        "\n",
        "# 2. Instanciar e escolher os hyperparameters\n",
        "model3 = LinearRegression()\n",
        "\n",
        "# 3. Separar os dados entre feature matrix e target vector\n",
        "X3 = df_modelagem_filtrada_NMP.drop('Nota_MP',axis=1)\n",
        "y3 = df_modelagem_filtrada_NMP['Nota_MP']\n",
        "\n",
        "# 3.1 Dividir o dataset entre treino e teste\n",
        "X3_train, X3_test, y3_train, y3_test = train_test_split(X3, y3)\n",
        "\n",
        "# 4. Fit do modelo (treinar)\n",
        "model3.fit(X3_train, y3_train)\n",
        "\n",
        "# 5. Fazer previsões em cima dos dados de teste\n",
        "y3_pred = model3.predict(X3_test)"
      ],
      "metadata": {
        "id": "2m7kQoeuFZll"
      },
      "execution_count": 48,
      "outputs": []
    },
    {
      "cell_type": "code",
      "source": [
        "# Verificando o desempenho do modelo, é possível concluir que 97% das variações da nota global ponderada pode ser explicada pela nota de Redação e nota de Ciências com erro absoluto de 121,31 pontos. Em termos práticos, é possível prever o resultado ponderado global a partir das notas mencionadas, ficando o modelo da seguinte forma:\n",
        "print(\"MAE:\\t\\t\", mean_absolute_error(y3_test, y3_pred))\n",
        "print(\"MSE:\\t\\t\", mean_squared_error(y3_test, y3_pred))"
      ],
      "metadata": {
        "colab": {
          "base_uri": "https://localhost:8080/"
        },
        "id": "c2yUyP0qF-QC",
        "outputId": "6f0d6848-04b8-48a3-dae8-a1d1afeb1cc1"
      },
      "execution_count": 49,
      "outputs": [
        {
          "output_type": "stream",
          "name": "stdout",
          "text": [
            "MAE:\t\t 120.82816642612451\n",
            "MSE:\t\t 23149.31276636946\n"
          ]
        }
      ]
    },
    {
      "cell_type": "code",
      "source": [
        "# Imprimindo os coeficientes, é possível perceber que o coeficiente de cada variável:\n",
        "print(\"Coeficiente:\\t\", model3.coef_)\n",
        "print(\"Intercepto:\\t\", model3.intercept_)"
      ],
      "metadata": {
        "colab": {
          "base_uri": "https://localhost:8080/"
        },
        "id": "Fi6t-LnjGolt",
        "outputId": "8fdfdbe3-3b62-415a-a451-88147e687755"
      },
      "execution_count": 50,
      "outputs": [
        {
          "output_type": "stream",
          "name": "stdout",
          "text": [
            "Coeficiente:\t [5.15938174 3.39663505]\n",
            "Intercepto:\t 733.2386342308855\n"
          ]
        }
      ]
    },
    {
      "cell_type": "code",
      "source": [
        "# Imprimindo os coeficientes do modelo da redação com duas variáveis, temos:\n",
        "print(\"Coeficiente:\\t\", model2.coef_)\n",
        "print(\"Intercepto:\\t\", model2.intercept_)"
      ],
      "metadata": {
        "colab": {
          "base_uri": "https://localhost:8080/"
        },
        "id": "V5oFyqgsHmMW",
        "outputId": "06f7eae8-30bf-4f35-f477-9d06378f4f84"
      },
      "execution_count": 51,
      "outputs": [
        {
          "output_type": "stream",
          "name": "stdout",
          "text": [
            "Coeficiente:\t [1.49499505 2.9757294 ]\n",
            "Intercepto:\t 52.390271137500804\n"
          ]
        }
      ]
    },
    {
      "cell_type": "code",
      "source": [
        "#A partir de então, é possível obter a equação reduzida da nota ponderada e da redação, respectivamente:\n",
        "#NP= 734,62 + 5,1564239*Nota_Redação + 3,39767438*Nota_Ciências_Humanas + e\n",
        "#Nota_Redação=52,45 + 1,49100759*COMP_2 + 2,97938168*COMP_3 + e"
      ],
      "metadata": {
        "id": "Niq2MBv_Gtoy"
      },
      "execution_count": 52,
      "outputs": []
    },
    {
      "cell_type": "code",
      "source": [
        "#A partir de então, será realizada a cross vaidation para cada um dos modelos de equação reduzida para verificar a acuracidade.\n",
        "#Importando o pacote\n",
        "from sklearn.model_selection import cross_val_score\n",
        "#Instanciando a cross-validation para o modelo de equação reduzida da redação\n",
        "scores2 = cross_val_score(model2, X2_train, y2_train, cv=5)\n",
        "\n",
        "print(\"scores: \", scores2)\n",
        "print(\"Acurácia: %0.2f (+/- %0.2f)\" % (scores2.mean(), scores2.std() * 2))\n",
        "\n",
        "#O resultado indica a acurácia em 0,90 com desvio padrão zerado, o que indica que a validação cruzada com base nos dados de treino, considerando 5 folds, foi satisfatória."
      ],
      "metadata": {
        "id": "p2i9_RtLGtls",
        "colab": {
          "base_uri": "https://localhost:8080/"
        },
        "outputId": "5960b346-0d4d-4c2d-8f33-05ac77751659"
      },
      "execution_count": 53,
      "outputs": [
        {
          "output_type": "stream",
          "name": "stdout",
          "text": [
            "scores:  [0.8959071  0.89578742 0.89541874 0.89529942 0.89610358]\n",
            "Acurácia: 0.90 (+/- 0.00)\n"
          ]
        }
      ]
    },
    {
      "cell_type": "code",
      "source": [
        "#Fazendo a croos-validation para o modelo de equação reduzida da nota ponderada, temos:\n",
        "scores3 = cross_val_score(model3, X3_train, y3_train, cv=5)\n",
        "\n",
        "print(\"scores: \", scores3)\n",
        "print(\"Acurácia: %0.2f (+/- %0.2f)\" % (scores3.mean(), scores3.std() * 2))\n",
        "\n",
        "#O resultado indica a acurácia em 0,97 com desvio padrão zerado, o que indica que a validação cruzada com base nos dados de treino, considerando 5 folds, foi satisfatória - superior aos resultados obtidos com o modelo das notas da redação."
      ],
      "metadata": {
        "colab": {
          "base_uri": "https://localhost:8080/"
        },
        "id": "-FGUZeNg5WHw",
        "outputId": "362d7380-39ec-49dc-8f16-cf722f82b13f"
      },
      "execution_count": 54,
      "outputs": [
        {
          "output_type": "stream",
          "name": "stdout",
          "text": [
            "scores:  [0.97234993 0.97246023 0.97241125 0.97199669 0.97222433]\n",
            "Acurácia: 0.97 (+/- 0.00)\n"
          ]
        }
      ]
    }
  ],
  "metadata": {
    "colab": {
      "name": "Análise dos dados_ENEM.ipynb",
      "provenance": [],
      "collapsed_sections": [],
      "mount_file_id": "1ue8VTOppqYUB5SjR25bHAzT5VcGISMfa",
      "authorship_tag": "ABX9TyOUvERgjCcNcGzv6HbEZc5s",
      "include_colab_link": true
    },
    "kernelspec": {
      "display_name": "Python 3",
      "name": "python3"
    },
    "language_info": {
      "name": "python"
    }
  },
  "nbformat": 4,
  "nbformat_minor": 0
}